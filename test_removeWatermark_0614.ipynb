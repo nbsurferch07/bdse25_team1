{
 "cells": [
  {
   "cell_type": "code",
   "execution_count": 243,
   "id": "66d0a8b5-a017-46d6-9611-1f8d862956b5",
   "metadata": {
    "tags": []
   },
   "outputs": [],
   "source": [
    "import numpy as np\n",
    "import cv2\n",
    "import os\n",
    "# 圖片轉灰階\n",
    "img=cv2.imread('./91530L.jpg')\n",
    "gray= cv2.cvtColor(img, cv2.COLOR_BGR2GRAY)"
   ]
  },
  {
   "cell_type": "code",
   "execution_count": 244,
   "id": "76ba3926-b877-48fb-bf8e-3ad50018db56",
   "metadata": {
    "tags": []
   },
   "outputs": [],
   "source": [
    "# 調整亮度、對比度\n",
    "import math\n",
    "brightness = 0\n",
    "contrast = 100 # - 減少對比度/+ 增加對比度\n",
    "\n",
    "B = brightness / 255.0\n",
    "c = contrast / 255.0 \n",
    "k = math.tan((45 + 44 * c) / 180 * math.pi)\n",
    "\n",
    "gray = (gray - 127.5 * (1 - B)) * k + 127.5 * (1 + B)\n",
    "\n",
    "# 所有值必須介於 0~255 之間，超過255 = 255，小於 0 = 0\n",
    "gray = np.clip(gray, 0, 255).astype(np.uint8)"
   ]
  },
  {
   "cell_type": "code",
   "execution_count": 245,
   "id": "377dc65f-abf7-4aff-91c1-9eaf310b5539",
   "metadata": {},
   "outputs": [],
   "source": [
    "# 濾鏡\n",
    "# gray = cv2.medianBlur(gray,5)\n",
    "# gray = cv2.GaussianBlur(gray, (5,5),1)\n",
    "# gray = cv2.boxFilter(gray, -1, (3,3), normalize=True)\n",
    "cv2.imshow('img',img)\n",
    "cv2.imshow('gray',gray)\n",
    "cv2.waitKey(0)\n",
    "cv2.destroyAllWindows()"
   ]
  },
  {
   "cell_type": "code",
   "execution_count": 247,
   "id": "c62cf71a-aac0-4a1b-9c4b-f306ad4eb027",
   "metadata": {},
   "outputs": [],
   "source": [
    "# threshholding 影像二值化\n",
    "thresh, img1 = cv2.threshold( gray, 127, 255, cv2.THRESH_BINARY )\n",
    "img2 = cv2.adaptiveThreshold( gray, 255, \n",
    "\t   cv2.ADAPTIVE_THRESH_MEAN_C, cv2.THRESH_BINARY, 11, 2 )\n",
    "img3 = cv2.adaptiveThreshold( gray, 255, \n",
    "\t   cv2.ADAPTIVE_THRESH_GAUSSIAN_C, cv2.THRESH_BINARY, 11, 2 )\n",
    "cv2.imshow( \"Original Image\",  gray )\t\n",
    "cv2.imshow( \"Global Thresholding\", img1 )\n",
    "# cv2.imshow( \"Adaptive Thresholding(Mean)\", img2 )\n",
    "# cv2.imshow( \"Adaptive Thresholding(Gaussian)\", img3 )\n",
    "cv2.waitKey( 0 )\n",
    "cv2.destroyAllWindows()"
   ]
  },
  {
   "cell_type": "markdown",
   "id": "fa4cb258-517d-4807-b887-72f17b83be2e",
   "metadata": {},
   "source": [
    "## reference "
   ]
  },
  {
   "cell_type": "markdown",
   "id": "cf5af1c3-9937-4bb6-a38d-3a15d683ba97",
   "metadata": {},
   "source": [
    "<p>https://ithelp.ithome.com.tw/articles/10240032</p>\n",
    "<p>https://shengyu7697.github.io/python-opencv-threshold/</p>"
   ]
  }
 ],
 "metadata": {
  "kernelspec": {
   "display_name": "Python 3 (ipykernel)",
   "language": "python",
   "name": "python3"
  },
  "language_info": {
   "codemirror_mode": {
    "name": "ipython",
    "version": 3
   },
   "file_extension": ".py",
   "mimetype": "text/x-python",
   "name": "python",
   "nbconvert_exporter": "python",
   "pygments_lexer": "ipython3",
   "version": "3.9.7"
  }
 },
 "nbformat": 4,
 "nbformat_minor": 5
}
