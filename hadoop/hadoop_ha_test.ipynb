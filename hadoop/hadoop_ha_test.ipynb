{
 "cells": [
  {
   "cell_type": "markdown",
   "id": "8bd815f8-8233-4ad6-8639-875ef1fd097b",
   "metadata": {},
   "source": [
    "# House price predict"
   ]
  },
  {
   "cell_type": "markdown",
   "id": "c41fb337-0753-4c53-a9ca-af8fd4443245",
   "metadata": {
    "tags": []
   },
   "source": [
    "### Import pyspark module"
   ]
  },
  {
   "cell_type": "code",
   "execution_count": 1,
   "id": "63c64e6a-3ff8-4384-923e-fbc4019b43bb",
   "metadata": {},
   "outputs": [],
   "source": [
    "import numpy as np\n",
    "import pandas as pd\n",
    "import pyspark\n",
    "import sys"
   ]
  },
  {
   "cell_type": "code",
   "execution_count": 2,
   "id": "8fe8c880-c504-458f-af3d-b3fd076688f6",
   "metadata": {},
   "outputs": [],
   "source": [
    "# import SparkSession, 有 pip3 install pyspark\n",
    "from pyspark.sql import SparkSession\n",
    "import pyspark.sql.functions as fn\n",
    "from pyspark.sql.functions import *\n",
    "from pyspark.sql.types import StringType,DoubleType,IntegerType"
   ]
  },
  {
   "cell_type": "code",
   "execution_count": 3,
   "id": "75ab85a8-d0f9-4b00-9032-f7770afc2aae",
   "metadata": {},
   "outputs": [
    {
     "name": "stderr",
     "output_type": "stream",
     "text": [
      "WARNING:root:'PYARROW_IGNORE_TIMEZONE' environment variable was not set. It is required to set this environment variable to '1' in both driver and executor sides if you use pyarrow>=2.0.0. pandas-on-Spark will set it for you but it does not work if there is a Spark context already launched.\n"
     ]
    }
   ],
   "source": [
    "import pyspark.pandas as ps"
   ]
  },
  {
   "cell_type": "code",
   "execution_count": 4,
   "id": "f841bcc3-2067-4265-af99-97fca873fe91",
   "metadata": {},
   "outputs": [],
   "source": [
    "# spark ml module\n",
    "from pyspark.ml.regression import LinearRegression\n",
    "from pyspark.ml.linalg import Vector\n",
    "from pyspark.ml.feature import VectorAssembler, StringIndexer, OneHotEncoder"
   ]
  },
  {
   "cell_type": "markdown",
   "id": "0135eb84-e555-44b8-b39e-2d3a21f165a1",
   "metadata": {
    "tags": []
   },
   "source": [
    "### Set spark session"
   ]
  },
  {
   "cell_type": "code",
   "execution_count": 5,
   "id": "a06147df-660b-49ee-8ef5-4f3811235fe3",
   "metadata": {},
   "outputs": [
    {
     "name": "stdout",
     "output_type": "stream",
     "text": [
      "22/07/13 00:17:04 WARN Utils: Your hostname, ubuntu2204-desktop resolves to a loopback address: 127.0.1.1; using 192.168.161.130 instead (on interface ens33)\n",
      "22/07/13 00:17:04 WARN Utils: Set SPARK_LOCAL_IP if you need to bind to another address\n"
     ]
    },
    {
     "name": "stderr",
     "output_type": "stream",
     "text": [
      "Setting default log level to \"WARN\".\n",
      "To adjust logging level use sc.setLogLevel(newLevel). For SparkR, use setLogLevel(newLevel).\n"
     ]
    },
    {
     "name": "stdout",
     "output_type": "stream",
     "text": [
      "22/07/13 00:17:04 WARN NativeCodeLoader: Unable to load native-hadoop library for your platform... using builtin-java classes where applicable\n"
     ]
    }
   ],
   "source": [
    "# Local mode\n",
    "spark = SparkSession\\\n",
    "        .builder\\\n",
    "        .appName(\"price_predict\")\\\n",
    "        .getOrCreate()"
   ]
  },
  {
   "cell_type": "code",
   "execution_count": 6,
   "id": "6792f554-e1f2-4717-b481-a3bce89b81d1",
   "metadata": {},
   "outputs": [
    {
     "data": {
      "text/plain": [
       "'price_predict'"
      ]
     },
     "execution_count": 6,
     "metadata": {},
     "output_type": "execute_result"
    }
   ],
   "source": [
    "# Check spark app name\n",
    "spark.sparkContext.appName"
   ]
  },
  {
   "cell_type": "code",
   "execution_count": 7,
   "id": "523c5a0c-09de-4086-8eb9-397e2890a62a",
   "metadata": {},
   "outputs": [],
   "source": [
    "spark.conf.set(\"spark.sql.execution.arrow.pyspark.enabled\", True)"
   ]
  },
  {
   "cell_type": "code",
   "execution_count": 8,
   "id": "016cd525-1de3-4c80-9d50-d91b6ef26085",
   "metadata": {},
   "outputs": [],
   "source": [
    "ps.set_option(\"compute.default_index_type\", \"distributed\")"
   ]
  },
  {
   "cell_type": "code",
   "execution_count": null,
   "id": "48f8199f-7e87-4299-ac2f-636edce0f016",
   "metadata": {},
   "outputs": [],
   "source": [
    "# Spark version\n",
    "spark.version"
   ]
  },
  {
   "cell_type": "code",
   "execution_count": 9,
   "id": "a0912a3f-0a71-42e8-8fb4-d969505ec892",
   "metadata": {},
   "outputs": [
    {
     "data": {
      "text/html": [
       "\n",
       "            <div>\n",
       "                <p><b>SparkSession - in-memory</b></p>\n",
       "                \n",
       "        <div>\n",
       "            <p><b>SparkContext</b></p>\n",
       "\n",
       "            <p><a href=\"http://192.168.161.130:4040\">Spark UI</a></p>\n",
       "\n",
       "            <dl>\n",
       "              <dt>Version</dt>\n",
       "                <dd><code>v3.3.0</code></dd>\n",
       "              <dt>Master</dt>\n",
       "                <dd><code>local[*]</code></dd>\n",
       "              <dt>AppName</dt>\n",
       "                <dd><code>price_predict</code></dd>\n",
       "            </dl>\n",
       "        </div>\n",
       "        \n",
       "            </div>\n",
       "        "
      ],
      "text/plain": [
       "<pyspark.sql.session.SparkSession at 0x7f96501a1450>"
      ]
     },
     "execution_count": 9,
     "metadata": {},
     "output_type": "execute_result"
    }
   ],
   "source": [
    "spark"
   ]
  },
  {
   "cell_type": "markdown",
   "id": "ca509d42-c4fc-4887-8e7f-7dc63b1bd376",
   "metadata": {},
   "source": [
    "## Feature Engineering"
   ]
  },
  {
   "cell_type": "markdown",
   "id": "2b90f7d5-3dcb-4584-a315-2926f67fa43d",
   "metadata": {
    "tags": []
   },
   "source": [
    "### Load data"
   ]
  },
  {
   "cell_type": "code",
   "execution_count": 10,
   "id": "b5189cf3-b24a-435b-bb05-b8f0e5fdef01",
   "metadata": {},
   "outputs": [
    {
     "name": "stderr",
     "output_type": "stream",
     "text": [
      "[Stage 1:>                                                          (0 + 4) / 4]\r"
     ]
    },
    {
     "name": "stdout",
     "output_type": "stream",
     "text": [
      "22/07/13 00:17:20 WARN package: Truncated the string representation of a plan since it was too large. This behavior can be adjusted by setting 'spark.sql.debug.maxToStringFields'.\n"
     ]
    },
    {
     "name": "stderr",
     "output_type": "stream",
     "text": [
      "                                                                                \r"
     ]
    }
   ],
   "source": [
    "# load data from pandas-output\n",
    "df = spark.read.csv('data/all_taipei_A.csv',inferSchema=True, header=True)\n",
    "df.createOrReplaceTempView(\"dfTable\")"
   ]
  },
  {
   "cell_type": "code",
   "execution_count": null,
   "id": "c8507302-b64f-46d0-8b81-dabe38f55fc9",
   "metadata": {},
   "outputs": [],
   "source": [
    "df.show(5)"
   ]
  },
  {
   "cell_type": "markdown",
   "id": "db878afc-b90f-42b0-8889-1faca9c2a6a8",
   "metadata": {},
   "source": [
    "### Inspect data"
   ]
  },
  {
   "cell_type": "code",
   "execution_count": null,
   "id": "9c63a453-78e4-415c-90f5-09cffc8678df",
   "metadata": {},
   "outputs": [],
   "source": [
    "df.columns"
   ]
  },
  {
   "cell_type": "code",
   "execution_count": null,
   "id": "d1246f52-0a46-414e-aaa4-0f81aadea403",
   "metadata": {},
   "outputs": [],
   "source": [
    "df.count(),len(df.columns)"
   ]
  },
  {
   "cell_type": "code",
   "execution_count": null,
   "id": "4f58c976-850c-46ac-97f7-e7ef5af0f344",
   "metadata": {},
   "outputs": [],
   "source": [
    "# print dataframe schema\n",
    "df.printSchema()"
   ]
  },
  {
   "cell_type": "code",
   "execution_count": null,
   "id": "e6814580-73cd-439e-9f10-85d45f330b2c",
   "metadata": {},
   "outputs": [],
   "source": [
    "df.describe().show()"
   ]
  },
  {
   "cell_type": "code",
   "execution_count": null,
   "id": "f0422411-7ca9-4bbb-82e5-45bb596d90d5",
   "metadata": {},
   "outputs": [],
   "source": [
    "# info about dataframe\n",
    "df.summary().show()"
   ]
  },
  {
   "cell_type": "markdown",
   "id": "541ec19c-c232-4c0c-b877-986cd594a312",
   "metadata": {},
   "source": [
    "### Select features"
   ]
  },
  {
   "cell_type": "code",
   "execution_count": 42,
   "id": "28799de9-d479-4aca-969e-a31a5ef21e8e",
   "metadata": {},
   "outputs": [
    {
     "data": {
      "text/plain": [
       "(245086, 7)"
      ]
     },
     "execution_count": 42,
     "metadata": {},
     "output_type": "execute_result"
    }
   ],
   "source": [
    "# select columns\n",
    "# df = df.filter(coalesce('鄉鎮市區', '交易標的', '建物移轉總面積平方公尺','主建物面積', '建物現況格局-房', '車位總價元', '主要建材', '總價元').isNotNull())\n",
    "features_df = df.select('鄉鎮市區', '交易標的', '建物移轉總面積平方公尺','主建物面積', '建物現況格局-房', '車位總價元', '總價元') # without '主要建材'\n",
    "features_df.count(), len(features_df.columns)"
   ]
  },
  {
   "cell_type": "code",
   "execution_count": 43,
   "id": "4b5efcd4-86d7-4bbb-b297-630623f3ea46",
   "metadata": {},
   "outputs": [
    {
     "data": {
      "text/plain": [
       "(208671, 7)"
      ]
     },
     "execution_count": 43,
     "metadata": {},
     "output_type": "execute_result"
    }
   ],
   "source": [
    "# select target without garage & land\n",
    "features_df = features_df.filter(~col('交易標的').isin(['車位', '土地']))\n",
    "features_df.count(), len(features_df.columns)"
   ]
  },
  {
   "cell_type": "code",
   "execution_count": 27,
   "id": "4b876bf4-333d-4e6f-8ade-8c35f2d73e1d",
   "metadata": {},
   "outputs": [
    {
     "name": "stdout",
     "output_type": "stream",
     "text": [
      "+--------+--------------------+----------------------+----------+---------------+----------+--------+\n",
      "|鄉鎮市區|            交易標的|建物移轉總面積平方公尺|主建物面積|建物現況格局-房|車位總價元|  總價元|\n",
      "+--------+--------------------+----------------------+----------+---------------+----------+--------+\n",
      "|  文山區|     房地(土地+建物)|                 35.56|     21.97|              1|         0| 5750000|\n",
      "|  文山區|     房地(土地+建物)|                115.48|     62.32|              2|         0|22600000|\n",
      "|  文山區|     房地(土地+建物)|                 41.01|     26.01|              1|         0| 6000000|\n",
      "|  文山區|房地(土地+建物)+車位|                219.08|    102.64|              3|         0|29200000|\n",
      "|  文山區|     房地(土地+建物)|                 83.37|     57.07|              3|         0| 8000000|\n",
      "|  文山區|房地(土地+建物)+車位|                228.23|    122.69|              4|         0|35000000|\n",
      "|  萬華區|房地(土地+建物)+車位|                101.03|     60.54|              2|         0|12700000|\n",
      "|  萬華區|     房地(土地+建物)|                 80.31|     55.51|              2|         0|12200000|\n",
      "|  萬華區|     房地(土地+建物)|                  36.4|      36.4|              1|         0| 7400000|\n",
      "|  內湖區|     房地(土地+建物)|                 136.4|     126.5|              3|         0|17300000|\n",
      "+--------+--------------------+----------------------+----------+---------------+----------+--------+\n",
      "only showing top 10 rows\n",
      "\n"
     ]
    }
   ],
   "source": [
    "features_df.show(10)"
   ]
  },
  {
   "cell_type": "code",
   "execution_count": null,
   "id": "6d25367f-802d-4f67-9c09-0b7450e7e712",
   "metadata": {},
   "outputs": [],
   "source": [
    "# print dataframe schema\n",
    "features_df.printSchema()"
   ]
  },
  {
   "cell_type": "code",
   "execution_count": null,
   "id": "78fe75b6-9b1a-4734-b74e-2568fc5a45c6",
   "metadata": {},
   "outputs": [],
   "source": [
    "features_df.describe().show()"
   ]
  },
  {
   "cell_type": "code",
   "execution_count": null,
   "id": "6ccf31a9-e1cc-44a0-afad-f0890779ebf5",
   "metadata": {},
   "outputs": [],
   "source": [
    "# info about dataframe\n",
    "features_df.summary().show()"
   ]
  },
  {
   "cell_type": "markdown",
   "id": "6871e3d8-1bbf-421c-adfe-a706ac7e47f7",
   "metadata": {},
   "source": [
    "### Feature engineering"
   ]
  },
  {
   "cell_type": "code",
   "execution_count": 44,
   "id": "d79a14bb-cc1f-49c8-952f-689005ded789",
   "metadata": {},
   "outputs": [],
   "source": [
    "def dummies_encoding(df, cols_list):\n",
    "    for i in cols_list:\n",
    "        categ = df.select(i).distinct().rdd.flatMap(lambda x:x).collect()\n",
    "        exprs = [fn.when(fn.col(i) == cat,1).otherwise(0)\\\n",
    "                .alias(str(cat)) for cat in categ]\n",
    "        df = df.select(exprs + df.columns)\n",
    "    return df    "
   ]
  },
  {
   "cell_type": "code",
   "execution_count": 45,
   "id": "24bdaea2-85dc-422c-bed7-f719d9960d9e",
   "metadata": {},
   "outputs": [],
   "source": [
    "cols_list = ['鄉鎮市區', '交易標的'] # without '主要建材'\n",
    "features_df = dummies_encoding(features_df, cols_list)"
   ]
  },
  {
   "cell_type": "code",
   "execution_count": 46,
   "id": "fc42ed26-22f6-418f-a60e-ccd67a081364",
   "metadata": {},
   "outputs": [],
   "source": [
    "# delete a column\n",
    "new_df = features_df.drop('鄉鎮市區', '交易標的')"
   ]
  },
  {
   "cell_type": "code",
   "execution_count": 31,
   "id": "c4e5b348-dccf-4fe3-865d-a16bbeabaadb",
   "metadata": {},
   "outputs": [
    {
     "name": "stdout",
     "output_type": "stream",
     "text": [
      "+---------------+--------------------+----+------+------+------+------+------+------+------+------+------+------+------+------+----------------------+----------+---------------+----------+--------+\n",
      "|房地(土地+建物)|房地(土地+建物)+車位|建物|南港區|北投區|內湖區|萬華區|文山區|松山區|信義區|大同區|中正區|中山區|大安區|士林區|建物移轉總面積平方公尺|主建物面積|建物現況格局-房|車位總價元|  總價元|\n",
      "+---------------+--------------------+----+------+------+------+------+------+------+------+------+------+------+------+------+----------------------+----------+---------------+----------+--------+\n",
      "|              1|                   0|   0|     0|     0|     0|     0|     1|     0|     0|     0|     0|     0|     0|     0|                 35.56|     21.97|              1|         0| 5750000|\n",
      "|              1|                   0|   0|     0|     0|     0|     0|     1|     0|     0|     0|     0|     0|     0|     0|                115.48|     62.32|              2|         0|22600000|\n",
      "|              1|                   0|   0|     0|     0|     0|     0|     1|     0|     0|     0|     0|     0|     0|     0|                 41.01|     26.01|              1|         0| 6000000|\n",
      "|              0|                   1|   0|     0|     0|     0|     0|     1|     0|     0|     0|     0|     0|     0|     0|                219.08|    102.64|              3|         0|29200000|\n",
      "|              1|                   0|   0|     0|     0|     0|     0|     1|     0|     0|     0|     0|     0|     0|     0|                 83.37|     57.07|              3|         0| 8000000|\n",
      "+---------------+--------------------+----+------+------+------+------+------+------+------+------+------+------+------+------+----------------------+----------+---------------+----------+--------+\n",
      "only showing top 5 rows\n",
      "\n"
     ]
    }
   ],
   "source": [
    "new_df.show(5)"
   ]
  },
  {
   "cell_type": "code",
   "execution_count": 47,
   "id": "81e67640-435f-43aa-a809-bc310cfedceb",
   "metadata": {},
   "outputs": [],
   "source": [
    "feature_cols = new_df.columns[:-1]\n",
    "assembler = VectorAssembler(inputCols = feature_cols, outputCol = 'features')\n",
    "new_df = assembler.transform(new_df)"
   ]
  },
  {
   "cell_type": "code",
   "execution_count": null,
   "id": "9bf0b22a-e931-4feb-aaec-f54beb42b4bd",
   "metadata": {},
   "outputs": [],
   "source": [
    "# validate the presence of dense vectors \n",
    "new_df.printSchema()"
   ]
  },
  {
   "cell_type": "code",
   "execution_count": 48,
   "id": "cfc07008-ac2a-450b-b180-5164215bc516",
   "metadata": {},
   "outputs": [
    {
     "name": "stdout",
     "output_type": "stream",
     "text": [
      "+-----------------------------------------------+\n",
      "|features                                       |\n",
      "+-----------------------------------------------+\n",
      "|(19,[0,7,15,16,17],[1.0,1.0,35.56,21.97,1.0])  |\n",
      "|(19,[0,7,15,16,17],[1.0,1.0,115.48,62.32,2.0]) |\n",
      "|(19,[0,7,15,16,17],[1.0,1.0,41.01,26.01,1.0])  |\n",
      "|(19,[1,7,15,16,17],[1.0,1.0,219.08,102.64,3.0])|\n",
      "|(19,[0,7,15,16,17],[1.0,1.0,83.37,57.07,3.0])  |\n",
      "+-----------------------------------------------+\n",
      "only showing top 5 rows\n",
      "\n"
     ]
    }
   ],
   "source": [
    "# view the details of dense vector\n",
    "new_df.select('features').show(5,False)"
   ]
  },
  {
   "cell_type": "code",
   "execution_count": 50,
   "id": "69e4e379-a60a-4b9b-a63e-26c35beb68c5",
   "metadata": {},
   "outputs": [],
   "source": [
    "# only select the features and label column\n",
    "model_df = new_df.select(['features', '總價元'])"
   ]
  },
  {
   "cell_type": "code",
   "execution_count": 51,
   "id": "86218cf5-16ef-4feb-aecc-1f5be2c5f434",
   "metadata": {},
   "outputs": [],
   "source": [
    "model_df = model_df.withColumnRenamed('總價元', 'price')"
   ]
  },
  {
   "cell_type": "code",
   "execution_count": 52,
   "id": "3c6deb8b-4bbd-46a8-a00e-b08a4e519157",
   "metadata": {},
   "outputs": [
    {
     "name": "stdout",
     "output_type": "stream",
     "text": [
      "+-----------------------------------------------+--------+\n",
      "|features                                       |price   |\n",
      "+-----------------------------------------------+--------+\n",
      "|(19,[0,7,15,16,17],[1.0,1.0,35.56,21.97,1.0])  |5750000 |\n",
      "|(19,[0,7,15,16,17],[1.0,1.0,115.48,62.32,2.0]) |22600000|\n",
      "|(19,[0,7,15,16,17],[1.0,1.0,41.01,26.01,1.0])  |6000000 |\n",
      "|(19,[1,7,15,16,17],[1.0,1.0,219.08,102.64,3.0])|29200000|\n",
      "|(19,[0,7,15,16,17],[1.0,1.0,83.37,57.07,3.0])  |8000000 |\n",
      "|(19,[1,7,15,16,17],[1.0,1.0,228.23,122.69,4.0])|35000000|\n",
      "|(19,[1,6,15,16,17],[1.0,1.0,101.03,60.54,2.0]) |12700000|\n",
      "|(19,[0,6,15,16,17],[1.0,1.0,80.31,55.51,2.0])  |12200000|\n",
      "|(19,[0,6,15,16,17],[1.0,1.0,36.4,36.4,1.0])    |7400000 |\n",
      "|(19,[0,5,15,16,17],[1.0,1.0,136.4,126.5,3.0])  |17300000|\n",
      "+-----------------------------------------------+--------+\n",
      "only showing top 10 rows\n",
      "\n"
     ]
    }
   ],
   "source": [
    "# Reading for machine learning\n",
    "model_df.show(10,False)"
   ]
  },
  {
   "cell_type": "code",
   "execution_count": 53,
   "id": "1f130483-1475-4cd4-ab42-d1c73a84fea9",
   "metadata": {},
   "outputs": [
    {
     "data": {
      "text/plain": [
       "(208671, 2)"
      ]
     },
     "execution_count": 53,
     "metadata": {},
     "output_type": "execute_result"
    }
   ],
   "source": [
    "# size of model df\n",
    "model_df.count(), len(model_df.columns)"
   ]
  },
  {
   "cell_type": "markdown",
   "id": "202fed98-29db-4358-9394-9d37fbbd007d",
   "metadata": {},
   "source": [
    "### Split Data - Train & Test sets"
   ]
  },
  {
   "cell_type": "code",
   "execution_count": 54,
   "id": "cb89cc22-f77a-4b69-906c-e453b81824c7",
   "metadata": {},
   "outputs": [],
   "source": [
    "# use Logistic Regression to train on the training set\n",
    "train_df, test_df = model_df.randomSplit([0.70, 0.30], seed=42)"
   ]
  },
  {
   "cell_type": "markdown",
   "id": "ac5f1fa1-5041-435e-ac47-97d6e04b1b89",
   "metadata": {},
   "source": [
    "### Build Linear Regression Model "
   ]
  },
  {
   "cell_type": "code",
   "execution_count": null,
   "id": "cd532fae-f97d-46c5-a10b-214c8866258a",
   "metadata": {},
   "outputs": [],
   "source": [
    "LinearRegression?"
   ]
  },
  {
   "cell_type": "code",
   "execution_count": 55,
   "id": "213cadb9-6e04-419e-ae8d-5e2d0268937b",
   "metadata": {},
   "outputs": [],
   "source": [
    "reg = 0.05"
   ]
  },
  {
   "cell_type": "code",
   "execution_count": 56,
   "id": "1da38389-9c0b-4487-ba93-9ba612610795",
   "metadata": {},
   "outputs": [],
   "source": [
    "# Build Linear Regression model \n",
    "lin_Reg=LinearRegression(labelCol='price', regParam=reg)"
   ]
  },
  {
   "cell_type": "code",
   "execution_count": 57,
   "id": "b0504175-56ad-4903-873f-f3f3eac85d4f",
   "metadata": {},
   "outputs": [
    {
     "name": "stderr",
     "output_type": "stream",
     "text": [
      "                                                                                \r"
     ]
    },
    {
     "name": "stdout",
     "output_type": "stream",
     "text": [
      "22/07/13 00:27:43 WARN InstanceBuilder$NativeLAPACK: Failed to load implementation from:dev.ludovic.netlib.lapack.JNILAPACK\n"
     ]
    },
    {
     "name": "stderr",
     "output_type": "stream",
     "text": [
      "                                                                                \r"
     ]
    }
   ],
   "source": [
    "# fit the linear regression model on training data set \n",
    "lr_model=lin_Reg.fit(train_df)"
   ]
  },
  {
   "cell_type": "code",
   "execution_count": 58,
   "id": "d5835bb8-60cf-4bf3-9b2d-30dd2ac8e052",
   "metadata": {},
   "outputs": [
    {
     "data": {
      "text/plain": [
       "388886.5596443912"
      ]
     },
     "execution_count": 58,
     "metadata": {},
     "output_type": "execute_result"
    }
   ],
   "source": [
    "lr_model.intercept"
   ]
  },
  {
   "cell_type": "code",
   "execution_count": 59,
   "id": "fdda7cf0-f0b8-46c0-8981-a98f548ef179",
   "metadata": {},
   "outputs": [
    {
     "data": {
      "text/plain": [
       "DenseVector([-3130821.3894, 4025474.7752, -26017048.4941, -4070424.8977, -6546996.0003, -5537833.8555, -3319720.5441, -5810060.9278, 4437453.0005, 6603685.5624, -3124830.5487, 5394760.0699, 3789235.4531, 10209082.6741, -1054948.6585, 31790.8317, 298639.3859, -2219495.2255, 3.8132])"
      ]
     },
     "execution_count": 59,
     "metadata": {},
     "output_type": "execute_result"
    }
   ],
   "source": [
    "lr_model.coefficients"
   ]
  },
  {
   "cell_type": "code",
   "execution_count": 60,
   "id": "e8a18ebc-869c-495d-a1f7-359baac6ef6d",
   "metadata": {},
   "outputs": [
    {
     "name": "stderr",
     "output_type": "stream",
     "text": [
      "                                                                                \r"
     ]
    }
   ],
   "source": [
    "training_predictions=lr_model.evaluate(train_df)"
   ]
  },
  {
   "cell_type": "code",
   "execution_count": 61,
   "id": "ded0ed7a-6045-4d4f-96cb-a4829287ac71",
   "metadata": {},
   "outputs": [
    {
     "data": {
      "text/plain": [
       "1411242515275149.2"
      ]
     },
     "execution_count": 61,
     "metadata": {},
     "output_type": "execute_result"
    }
   ],
   "source": [
    "training_predictions.meanSquaredError"
   ]
  },
  {
   "cell_type": "code",
   "execution_count": 62,
   "id": "754eaa0b-2989-455e-aedc-4f5a097dcf50",
   "metadata": {},
   "outputs": [
    {
     "data": {
      "text/plain": [
       "0.8559234506875827"
      ]
     },
     "execution_count": 62,
     "metadata": {},
     "output_type": "execute_result"
    }
   ],
   "source": [
    "training_predictions.r2"
   ]
  },
  {
   "cell_type": "markdown",
   "id": "9ea4501a-6d4a-4ec4-8fb7-549274f8aa57",
   "metadata": {},
   "source": [
    "### Evaluate Model"
   ]
  },
  {
   "cell_type": "code",
   "execution_count": 63,
   "id": "de1b0dd4-4fc3-40dc-98e7-2ddf4b0f7eed",
   "metadata": {},
   "outputs": [
    {
     "name": "stderr",
     "output_type": "stream",
     "text": [
      "                                                                                \r"
     ]
    }
   ],
   "source": [
    "# make predictions on test data \n",
    "test_results = lr_model.evaluate(test_df)"
   ]
  },
  {
   "cell_type": "code",
   "execution_count": 64,
   "id": "41a34d7f-2c70-454f-b01b-d042574ad256",
   "metadata": {},
   "outputs": [
    {
     "name": "stdout",
     "output_type": "stream",
     "text": [
      "+-------------------+\n",
      "|residuals          |\n",
      "+-------------------+\n",
      "|1.726872996962302E7|\n",
      "|8804123.710281715  |\n",
      "|-2615546.7342291363|\n",
      "|9835102.813935911  |\n",
      "|5596266.719363058  |\n",
      "|1725156.0844988679 |\n",
      "|6153854.165668456  |\n",
      "|-2468781.7764608506|\n",
      "|8562956.568887698  |\n",
      "|8538720.406577948  |\n",
      "+-------------------+\n",
      "only showing top 10 rows\n",
      "\n"
     ]
    }
   ],
   "source": [
    "# view the residual errors based on predictions \n",
    "test_results.residuals.show(10,False)"
   ]
  },
  {
   "cell_type": "code",
   "execution_count": 65,
   "id": "9dc5f4a2-050d-4e49-8cb8-6777783b2589",
   "metadata": {},
   "outputs": [
    {
     "data": {
      "text/plain": [
       "0.7492024451099824"
      ]
     },
     "execution_count": 65,
     "metadata": {},
     "output_type": "execute_result"
    }
   ],
   "source": [
    "# coefficient of determination value for model\n",
    "test_results.r2"
   ]
  },
  {
   "cell_type": "code",
   "execution_count": 66,
   "id": "e16dcd33-4234-43f7-b73a-bd0cbff78779",
   "metadata": {},
   "outputs": [
    {
     "data": {
      "text/plain": [
       "46967662.55893333"
      ]
     },
     "execution_count": 66,
     "metadata": {},
     "output_type": "execute_result"
    }
   ],
   "source": [
    "# RMSE\n",
    "test_results.rootMeanSquaredError"
   ]
  },
  {
   "cell_type": "code",
   "execution_count": 67,
   "id": "ab8e2266-254a-4203-ac3b-f5273c92f14f",
   "metadata": {},
   "outputs": [
    {
     "data": {
      "text/plain": [
       "2205961326249828.2"
      ]
     },
     "execution_count": 67,
     "metadata": {},
     "output_type": "execute_result"
    }
   ],
   "source": [
    "# MSE\n",
    "test_results.meanSquaredError"
   ]
  }
 ],
 "metadata": {
  "kernelspec": {
   "display_name": "Python 3 (ipykernel)",
   "language": "python",
   "name": "python3"
  },
  "language_info": {
   "codemirror_mode": {
    "name": "ipython",
    "version": 3
   },
   "file_extension": ".py",
   "mimetype": "text/x-python",
   "name": "python",
   "nbconvert_exporter": "python",
   "pygments_lexer": "ipython3",
   "version": "3.10.4"
  }
 },
 "nbformat": 4,
 "nbformat_minor": 5
}
