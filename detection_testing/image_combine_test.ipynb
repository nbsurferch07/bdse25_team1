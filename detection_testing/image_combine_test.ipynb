{
 "cells": [
  {
   "cell_type": "code",
   "execution_count": 68,
   "id": "8fc7c4b9-b0b7-4f0f-bdf6-4acffd9c9e0d",
   "metadata": {},
   "outputs": [
    {
     "name": "stdout",
     "output_type": "stream",
     "text": [
      "<class 'numpy.ndarray'>\n",
      "<class 'numpy.ndarray'>\n",
      "(768, 1024, 3)\n",
      "(768, 1024)\n"
     ]
    }
   ],
   "source": [
    "from utils.FloorplanToBlenderLib import *\n",
    "import cv2\n",
    "import numpy as np\n",
    "from PIL import Image, ImageDraw, ImageFilter\n",
    "from IPython.display import display\n",
    "\n",
    "img_path = \"Images/test5.jpg\"\n",
    "\n",
    "# Read floorplan image\n",
    "img = cv2.imread(img_path)\n",
    "\n",
    "# Create blank image\n",
    "height, width, channels = img.shape\n",
    "blank_image = np.zeros((height,width,3), np.uint8)\n",
    "\n",
    "# Grayscale image\n",
    "gray = cv2.cvtColor(img,cv2.COLOR_BGR2GRAY)\n",
    "\n",
    "# detect outer Contours (simple floor or roof solution), paint them red on blank_image\n",
    "contour, contour_img = detect.detectOuterContours(gray, blank_image, color=(255, 0, 0))\n",
    "\n",
    "gray_wall_filter = detect.wall_filter(gray)\n",
    "\n",
    "gray_wall_filter = ~gray_wall_filter\n",
    "\n",
    "rooms, colored_rooms = detect.find_rooms(gray_wall_filter.copy())\n",
    "\n",
    "gray_rooms =  cv2.cvtColor(colored_rooms, cv2.COLOR_BGR2GRAY)\n",
    "\n",
    "# get box positions for rooms\n",
    "boxes_rooms, room_img = detect.detectPreciseBoxes(gray_rooms, gray_rooms)\n",
    "\n",
    "\n",
    "# create wall image (filter out small objects from image)\n",
    "wall_img = detect.wall_filter(gray)\n",
    "# wall_img = cv2.cvtColor(wall_img, cv2.COLOR_GRAY2BGR)\n",
    "# detect walls\n",
    "# boxes_walls, img = detect.detectPreciseBoxes(wall_img)\n",
    "\n",
    "\n",
    "\n",
    "# display(Image.fromarray(contour_img))\n",
    "# display(Image.fromarray(colored_rooms))\n",
    "# display(Image.fromarray(wall_img))\n",
    "\n",
    "# print(type(contour_img))\n",
    "print(type(colored_rooms))\n",
    "print(type(wall_img))\n",
    "\n",
    "# print(contour_img.shape)\n",
    "print(colored_rooms.shape)\n",
    "print(wall_img.shape)\n",
    "\n",
    "\n",
    "\n"
   ]
  },
  {
   "cell_type": "code",
   "execution_count": 53,
   "id": "64eebdf6-2e70-4a20-93bf-85cd5618c999",
   "metadata": {},
   "outputs": [
    {
     "data": {
      "text/plain": [
       "\u001b[1;31mType:\u001b[0m        module\n",
       "\u001b[1;31mString form:\u001b[0m <module 'utils.FloorplanToBlenderLib.detect' from 'D:\\\\Documents\\\\Akademic\\\\Programming\\\\Bootcamp\\\\iSpan_BigData\\\\99_Project\\\\3_專題執行\\\\contour_detection\\\\Test\\\\utils\\\\FloorplanToBlenderLib\\\\detect.py'>\n",
       "\u001b[1;31mFile:\u001b[0m        d:\\documents\\akademic\\programming\\bootcamp\\ispan_bigdata\\99_project\\3_專題執行\\contour_detection\\test\\utils\\floorplantoblenderlib\\detect.py\n",
       "\u001b[1;31mDocstring:\u001b[0m   <no docstring>\n"
      ]
     },
     "metadata": {},
     "output_type": "display_data"
    }
   ],
   "source": [
    "detect?"
   ]
  },
  {
   "cell_type": "code",
   "execution_count": 69,
   "id": "bb43b239-c073-4570-aa87-e91ae7aeb0bf",
   "metadata": {},
   "outputs": [
    {
     "data": {
      "image/png": "[encoded data removed]",
      "text/plain": [
       "<PIL.Image.Image image mode=L size=1024x768 at 0x14B03A4BD00>"
      ]
     },
     "metadata": {},
     "output_type": "display_data"
    }
   ],
   "source": [
    "# combine1 = cv2.addWeighted(room_img, 1, wall_img, 1, 0)\n",
    "# display(Image.fromarray(combine1))\n",
    "\n",
    "combine2 = cv2.bitwise_or(wall_img, room_img)\n",
    "display(Image.fromarray(combine2))"
   ]
  },
  {
   "cell_type": "code",
   "execution_count": 29,
   "id": "e9412a74-cd53-495f-9735-33d9e1bc9904",
   "metadata": {},
   "outputs": [
    {
     "data": {
      "text/plain": [
       "\u001b[1;31mDocstring:\u001b[0m\n",
       "addWeighted(src1, alpha, src2, beta, gamma[, dst[, dtype]]) -> dst\n",
       ".   @brief Calculates the weighted sum of two arrays.\n",
       ".   \n",
       ".   The function addWeighted calculates the weighted sum of two arrays as follows:\n",
       ".   \\f[\\texttt{dst} (I)= \\texttt{saturate} ( \\texttt{src1} (I)* \\texttt{alpha} +  \\texttt{src2} (I)* \\texttt{beta} +  \\texttt{gamma} )\\f]\n",
       ".   where I is a multi-dimensional index of array elements. In case of multi-channel arrays, each\n",
       ".   channel is processed independently.\n",
       ".   The function can be replaced with a matrix expression:\n",
       ".   @code{.cpp}\n",
       ".       dst = src1*alpha + src2*beta + gamma;\n",
       ".   @endcode\n",
       ".   @note Saturation is not applied when the output array has the depth CV_32S. You may even get\n",
       ".   result of an incorrect sign in the case of overflow.\n",
       ".   @param src1 first input array.\n",
       ".   @param alpha weight of the first array elements.\n",
       ".   @param src2 second input array of the same size and channel number as src1.\n",
       ".   @param beta weight of the second array elements.\n",
       ".   @param gamma scalar added to each sum.\n",
       ".   @param dst output array that has the same size and number of channels as the input arrays.\n",
       ".   @param dtype optional depth of the output array; when both input arrays have the same depth, dtype\n",
       ".   can be set to -1, which will be equivalent to src1.depth().\n",
       ".   @sa  add, subtract, scaleAdd, Mat::convertTo\n",
       "\u001b[1;31mType:\u001b[0m      builtin_function_or_method\n"
      ]
     },
     "metadata": {},
     "output_type": "display_data"
    }
   ],
   "source": [
    "cv2.addWeighted?"
   ]
  },
  {
   "cell_type": "code",
   "execution_count": 20,
   "id": "819e77f6-9825-48db-b6b0-f51a9b1c9bf6",
   "metadata": {},
   "outputs": [],
   "source": [
    "from PIL import Image, ImageDraw, ImageFilter\n",
    "# 產生遮罩影像\n",
    "maskImg = Image.new(\"L\", (720, 480))\n",
    "\n",
    "# 繪製遮罩區域\n",
    "maskDraw = ImageDraw.Draw(maskImg)\n",
    "maskDraw.ellipse((50, 50, 470, 430), fill=255)\n",
    "\n",
    "# 模糊化\n",
    "maskImg = maskImg.filter(ImageFilter.GaussianBlur(30))\n",
    "\n",
    "# 顯示遮罩影像\n",
    "maskImg.show()"
   ]
  }
 ],
 "metadata": {
  "kernelspec": {
   "display_name": "Python 3 (ipykernel)",
   "language": "python",
   "name": "python3"
  },
  "language_info": {
   "codemirror_mode": {
    "name": "ipython",
    "version": 3
   },
   "file_extension": ".py",
   "mimetype": "text/x-python",
   "name": "python",
   "nbconvert_exporter": "python",
   "pygments_lexer": "ipython3",
   "version": "3.9.11"
  }
 },
 "nbformat": 4,
 "nbformat_minor": 5
}
