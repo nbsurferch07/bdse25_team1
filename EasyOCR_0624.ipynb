{
 "cells": [
  {
   "cell_type": "markdown",
   "id": "3d2b4ede-0b43-45b6-b5d1-7a64d25a52b4",
   "metadata": {},
   "source": [
    "### EasyOCR package"
   ]
  },
  {
   "cell_type": "markdown",
   "id": "3a7dab3e-7272-4eee-b4b3-dad090f8a617",
   "metadata": {
    "tags": []
   },
   "source": [
    "https://www.jaided.ai/easyocr/tutorial/"
   ]
  },
  {
   "cell_type": "markdown",
   "id": "4c0aa963-fa20-4e99-b5cd-7e8059ef31d5",
   "metadata": {},
   "source": [
    "https://github.com/JaidedAI/EasyOCR"
   ]
  },
  {
   "cell_type": "markdown",
   "id": "7e905948-bb84-4408-99c2-dab6cd45d2e0",
   "metadata": {},
   "source": [
    "<p>pip install easyocr</p>"
   ]
  },
  {
   "cell_type": "code",
   "execution_count": 2,
   "id": "2d888772-fd67-4d74-9318-1180f01226b4",
   "metadata": {},
   "outputs": [
    {
     "name": "stderr",
     "output_type": "stream",
     "text": [
      "C:\\Python\\lib\\site-packages\\tqdm\\auto.py:22: TqdmWarning: IProgress not found. Please update jupyter and ipywidgets. See https://ipywidgets.readthedocs.io/en/stable/user_install.html\n",
      "  from .autonotebook import tqdm as notebook_tqdm\n"
     ]
    }
   ],
   "source": [
    "import easyocr"
   ]
  },
  {
   "cell_type": "code",
   "execution_count": 3,
   "id": "85c98f90-a8e8-45a7-8de5-c7f45366f783",
   "metadata": {},
   "outputs": [],
   "source": [
    "reader = easyocr.Reader(['ch_tra','en']) # this needs to run only once to load the model into memory"
   ]
  },
  {
   "cell_type": "code",
   "execution_count": null,
   "id": "2adf2572",
   "metadata": {
    "tags": []
   },
   "outputs": [],
   "source": [
    "result = reader.readtext('testimage/01769H.jpg')\n",
    "result"
   ]
  },
  {
   "cell_type": "code",
   "execution_count": null,
   "id": "bae01aab-b903-4609-8ade-1b1ca675ca0a",
   "metadata": {
    "tags": []
   },
   "outputs": [],
   "source": [
    "result = reader.readtext('testimage/01769H-1.jpg')\n",
    "result"
   ]
  },
  {
   "cell_type": "code",
   "execution_count": 114,
   "id": "5f8a6326-9d13-4b9c-8c88-6d15d790a475",
   "metadata": {
    "collapsed": true,
    "jupyter": {
     "outputs_hidden": true
    },
    "tags": []
   },
   "outputs": [
    {
     "data": {
      "text/plain": [
       "[([[334, 52], [478, 52], [478, 84], [334, 84]], '露台加蓋雨遮', 0.9759675127905697),\n",
       " ([[576, 70], [718, 70], [718, 100], [576, 100]],\n",
       "  '露台加蓋雨遮',\n",
       "  0.2807682938089382),\n",
       " ([[387, 137], [423, 137], [423, 157], [387, 157]], '醒台', 0.45142751147127),\n",
       " ([[254, 182], [306, 182], [306, 214], [254, 214]], '陽台', 0.9919866994915955),\n",
       " ([[249, 207], [306, 207], [306, 244], [249, 244]], '外移', 0.9997578327977075),\n",
       " ([[512, 270], [538, 270], [538, 296], [512, 296]], '室', 0.9995462217250441),\n",
       " ([[577, 277], [615, 277], [615, 297], [577, 297]], '沿廁', 0.4944700719934932),\n",
       " ([[686, 276], [738, 276], [738, 304], [686, 304]], '臥室', 0.9985688245835218),\n",
       " ([[371, 287], [435, 287], [435, 325], [371, 325]], '客廳', 0.9814461903350423),\n",
       " ([[479, 395], [543, 395], [543, 431], [479, 431]], '餐廳', 0.9996303921478129),\n",
       " ([[566, 406], [618, 406], [618, 438], [566, 438]], '書房', 0.9806917820298429),\n",
       " ([[508, 500], [558, 500], [558, 530], [508, 530]], '廚房', 0.9987504904144799),\n",
       " ([[594, 504], [632, 504], [632, 528], [594, 528]], '陽台', 0.9230020748244637),\n",
       " ([[682, 500], [736, 500], [736, 530], [682, 530]], '增建', 0.9962051870876426),\n",
       " ([[672, 526], [746, 526], [746, 556], [672, 556]], '鐵鋁窗', 0.9413040869186674),\n",
       " ([[264, 684], [746, 684], [746, 716], [264, 716]],\n",
       "  \"本格局圖係未依一定比例縮小繪製之概繪圖'與\",\n",
       "  0.5840724771698477),\n",
       " ([[264, 712], [408, 712], [408, 742], [264, 742]],\n",
       "  '實況仍有差距',\n",
       "  0.9782818560316273),\n",
       " ([[422, 712], [498, 712], [498, 742], [422, 742]], '其方位', 0.9609055249282001),\n",
       " ([[512, 712], [566, 712], [566, 742], [512, 742]], '格局', 0.9006488087158551),\n",
       " ([[580, 712], [746, 712], [746, 742], [580, 742]],\n",
       "  '形狀等,仍須以',\n",
       "  0.5150800630258683),\n",
       " ([[263, 737], [407, 737], [407, 767], [263, 767]],\n",
       "  '房屋現場為準',\n",
       "  0.9232920981848355)]"
      ]
     },
     "execution_count": 114,
     "metadata": {},
     "output_type": "execute_result"
    }
   ],
   "source": [
    "result = reader.readtext('testimage/01769H-2.jpg')\n",
    "result"
   ]
  },
  {
   "cell_type": "markdown",
   "id": "2c7abc81-d153-4aea-b371-f59e542f768a",
   "metadata": {},
   "source": [
    "### Caculate midpoint"
   ]
  },
  {
   "cell_type": "code",
   "execution_count": 21,
   "id": "83193441-f776-4681-883d-7de545fc79f6",
   "metadata": {
    "tags": []
   },
   "outputs": [
    {
     "data": {
      "text/plain": [
       "[[[[334, 52], [478, 52], [478, 84], [334, 84]], '露台加蓋雨遮'],\n",
       " [[[576, 70], [718, 70], [718, 100], [576, 100]], '露台加蓋雨遮'],\n",
       " [[[387, 137], [423, 137], [423, 157], [387, 157]], '醒台'],\n",
       " [[[249, 182], [306, 182], [306, 244], [249, 244]], '陽台 外移'],\n",
       " [[[512, 270], [538, 270], [538, 296], [512, 296]], '室'],\n",
       " [[[577, 277], [615, 277], [615, 297], [577, 297]], '沿廁'],\n",
       " [[[686, 276], [738, 276], [738, 304], [686, 304]], '臥室'],\n",
       " [[[371, 287], [435, 287], [435, 325], [371, 325]], '客廳'],\n",
       " [[[479, 395], [618, 395], [618, 438], [479, 438]], '餐廳 書房'],\n",
       " [[[508, 500], [558, 500], [558, 530], [508, 530]], '廚房'],\n",
       " [[[594, 504], [632, 504], [632, 528], [594, 528]], '陽台'],\n",
       " [[[672, 500], [746, 500], [746, 556], [672, 556]], '增建 鐵鋁窗'],\n",
       " [[[263, 684], [746, 684], [746, 767], [263, 767]],\n",
       "  \"本格局圖係未依一定比例縮小繪製之概繪圖'與 實況仍有差距 其方位 格局 形狀等,仍須以 房屋現場為準\"]]"
      ]
     },
     "execution_count": 21,
     "metadata": {},
     "output_type": "execute_result"
    }
   ],
   "source": [
    "result = reader.readtext('testimage/01769H-2.jpg',paragraph=True)\n",
    "result"
   ]
  },
  {
   "cell_type": "code",
   "execution_count": 65,
   "id": "60d047c9-5ddb-445c-bb91-651d7069990c",
   "metadata": {},
   "outputs": [
    {
     "name": "stdout",
     "output_type": "stream",
     "text": [
      "[406.  68.]\n",
      "[647.  85.]\n",
      "[405. 147.]\n",
      "[277.5 213. ]\n",
      "[525. 283.]\n",
      "[596. 287.]\n",
      "[712. 290.]\n",
      "[403. 306.]\n",
      "[548.5 416.5]\n",
      "[533. 515.]\n",
      "[613. 516.]\n",
      "[709. 528.]\n",
      "[504.5 725.5]\n"
     ]
    }
   ],
   "source": [
    "import numpy as np\n",
    "result = np.array(result, dtype=object)\n",
    "for i,v in enumerate(result):\n",
    "    arr=result[i][0]\n",
    "    # print(arr)\n",
    "    arr_x=((np.array(arr[1])+np.array(arr[0]))/2)[0]\n",
    "    arr_y=((np.array(arr[2])+np.array(arr[1]))/2)[1]\n",
    "    arr_xy=np.array([arr_x,arr_y])\n",
    "    print(arr_xy)"
   ]
  },
  {
   "cell_type": "markdown",
   "id": "17d392c7-cc74-4da7-86cd-ccc6b0d33d69",
   "metadata": {},
   "source": [
    "### optimize EasyOCR parameter"
   ]
  },
  {
   "cell_type": "code",
   "execution_count": 120,
   "id": "ce555829-d0ab-42d9-9dbc-d71ef4cacc66",
   "metadata": {
    "tags": []
   },
   "outputs": [
    {
     "data": {
      "text/plain": [
       "[[[[252, 5], [286, 5], [286, 37], [252, 37]], '北'],\n",
       " [[[333, 50], [476, 50], [476, 82], [333, 82]], '露台加蓋雨遮'],\n",
       " [[[573, 68], [717, 68], [717, 100], [573, 100]], '露台加蓋雨遮'],\n",
       " [[[385, 135], [424, 135], [424, 159], [385, 159]], '露台'],\n",
       " [[[674, 154], [712, 154], [712, 175], [674, 175]], '露台'],\n",
       " [[[252, 182], [303, 182], [303, 239], [252, 239]], '陽台 外移'],\n",
       " [[[541, 200], [581, 200], [581, 221], [541, 221]], '浴廁'],\n",
       " [[[510, 269], [539, 269], [539, 296], [510, 296]], '室'],\n",
       " [[[577, 277], [615, 277], [615, 298], [577, 298]], '沿廁'],\n",
       " [[[685, 273], [736, 273], [736, 303], [685, 303]], '臥室'],\n",
       " [[[371, 287], [435, 287], [435, 325], [371, 325]], '客廳'],\n",
       " [[[477, 394], [543, 394], [543, 431], [477, 431]], '餐廳'],\n",
       " [[[565, 405], [616, 405], [616, 434], [565, 434]], '書房'],\n",
       " [[[669, 408], [740, 408], [740, 437], [669, 437]], '衣帽間'],\n",
       " [[[506, 499], [557, 499], [557, 529], [506, 529]], '廚房'],\n",
       " [[[592, 503], [633, 503], [633, 529], [592, 529]], '陽台'],\n",
       " [[[670, 498], [743, 498], [743, 554], [670, 554]], '增建 鐵鋁窗'],\n",
       " [[[263, 683], [744, 683], [744, 768], [263, 768]],\n",
       "  \"本格局圖係未依一定比例縮小繪製之概繪圖'與 實況仍有差距 其方位 格局 形狀等'仍須以 房屋現場為準\"]]"
      ]
     },
     "execution_count": 120,
     "metadata": {},
     "output_type": "execute_result"
    }
   ],
   "source": [
    "result = reader.readtext('testimage/01769H-3.jpg',\n",
    "                         paragraph=True, \n",
    "                         x_ths=0.5,\n",
    "                         mag_ratio=1.4)\n",
    "result"
   ]
  }
 ],
 "metadata": {
  "kernelspec": {
   "display_name": "Python 3 (ipykernel)",
   "language": "python",
   "name": "python3"
  },
  "language_info": {
   "codemirror_mode": {
    "name": "ipython",
    "version": 3
   },
   "file_extension": ".py",
   "mimetype": "text/x-python",
   "name": "python",
   "nbconvert_exporter": "python",
   "pygments_lexer": "ipython3",
   "version": "3.9.7"
  }
 },
 "nbformat": 4,
 "nbformat_minor": 5
}
