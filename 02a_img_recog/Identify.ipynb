{
  "nbformat": 4,
  "nbformat_minor": 0,
  "metadata": {
    "colab": {
      "name": "Identify.ipynb",
      "provenance": [],
      "collapsed_sections": []
    },
    "kernelspec": {
      "name": "python3",
      "display_name": "Python 3"
    },
    "language_info": {
      "name": "python"
    }
  },
  "cells": [
    {
      "cell_type": "code",
      "source": [
        "import cv2\n",
        "import matplotlib.pyplot as plt\n",
        "import os, sys\n",
        "import pandas as pd\n",
        "import numpy as np\n",
        "import glob"
      ],
      "metadata": {
        "id": "L5BBxDNSs1iG"
      },
      "execution_count": null,
      "outputs": []
    },
    {
      "cell_type": "markdown",
      "source": [
        "set google colab env"
      ],
      "metadata": {
        "id": "7lj2PYaH-rzN"
      }
    },
    {
      "cell_type": "code",
      "execution_count": null,
      "metadata": {
        "colab": {
          "base_uri": "https://localhost:8080/"
        },
        "id": "8MmInrZCsdnF",
        "outputId": "7ac9e84d-9f26-41fb-8294-57675a238ce8"
      },
      "outputs": [
        {
          "output_type": "stream",
          "name": "stdout",
          "text": [
            "Drive already mounted at /content/drive; to attempt to forcibly remount, call drive.mount(\"/content/drive\", force_remount=True).\n"
          ]
        }
      ],
      "source": [
        "# in google colab\n",
        "from google.colab import drive\n",
        "drive.mount('/content/drive')\n",
        "\n",
        "# defines path to csv files\n",
        "path = \"/content/drive/MyDrive/ColabNotebooks\"\n",
        "os.chdir(path)"
      ]
    },
    {
      "cell_type": "markdown",
      "source": [
        "input eazy_OCR result as list"
      ],
      "metadata": {
        "id": "FGkIY0J--aZA"
      }
    },
    {
      "cell_type": "code",
      "source": [
        "OCR = pd.DataFrame\n",
        "OCR = [[[[252, 5], [286, 5], [286, 37], [252, 37]], 'text1'],\n",
        " [[[333, 50], [476, 50], [476, 82], [333, 82]], 'text2'],\n",
        " [[[573, 68], [717, 68], [717, 100], [573, 100]], 'text3'],\n",
        " [[[385, 135], [424, 135], [424, 159], [385, 159]], 'text4'],\n",
        " [[[674, 154], [712, 154], [712, 175], [674, 175]], 'text5'],\n",
        " [[[252, 182], [303, 182], [303, 239], [252, 239]], 'text6'],\n",
        " [[[541, 200], [581, 200], [581, 221], [541, 221]], 'text7'],\n",
        " [[[510, 269], [539, 269], [539, 296], [510, 296]], 'text8'],\n",
        " [[[577, 277], [615, 277], [615, 298], [577, 298]], 'text9'],\n",
        " [[[685, 273], [736, 273], [736, 303], [685, 303]], 'text10'],\n",
        " [[[371, 287], [435, 287], [435, 325], [371, 325]], 'text11'],\n",
        " [[[477, 394], [543, 394], [543, 431], [477, 431]], 'text12'],\n",
        " [[[565, 405], [616, 405], [616, 434], [565, 434]], 'text13'],\n",
        " [[[669, 408], [740, 408], [740, 437], [669, 437]], 'text14'],\n",
        " [[[506, 499], [557, 499], [557, 529], [506, 529]], 'text15'],\n",
        " [[[592, 503], [633, 503], [633, 529], [592, 529]], 'text16'],\n",
        " [[[670, 498], [743, 498], [743, 554], [670, 554]], 'text17'],\n",
        " [[[263, 683], [744, 683], [744, 768], [263, 768]],\n",
        "  \"text18\"]]\n",
        "\n",
        "new_OCR = []\n",
        "for i in OCR:\n",
        "  i = i[0][0][0], i[0][0][1], i[-1]\n",
        "  new_OCR.append(i)\n",
        "\n",
        "print(new_OCR)"
      ],
      "metadata": {
        "colab": {
          "base_uri": "https://localhost:8080/"
        },
        "id": "pX2oLzPGvqKT",
        "outputId": "6cbd4a3a-554c-4cf5-b847-06e8e9940c2b"
      },
      "execution_count": null,
      "outputs": [
        {
          "output_type": "stream",
          "name": "stdout",
          "text": [
            "[(252, 5, 'text1'), (333, 50, 'text2'), (573, 68, 'text3'), (385, 135, 'text4'), (674, 154, 'text5'), (252, 182, 'text6'), (541, 200, 'text7'), (510, 269, 'text8'), (577, 277, 'text9'), (685, 273, 'text10'), (371, 287, 'text11'), (477, 394, 'text12'), (565, 405, 'text13'), (669, 408, 'text14'), (506, 499, 'text15'), (592, 503, 'text16'), (670, 498, 'text17'), (263, 683, 'text18')]\n"
          ]
        }
      ]
    },
    {
      "cell_type": "markdown",
      "source": [
        "add room name in pics"
      ],
      "metadata": {
        "id": "Yk1zDtSB-jwx"
      }
    },
    {
      "cell_type": "code",
      "source": [
        "image= cv2.imread('coloblocks.png')\n",
        "original_image= image\n",
        "\n",
        "gray= cv2.cvtColor(image,cv2.COLOR_BGR2GRAY)\n",
        "\n",
        "edges= cv2.Canny(gray, 50,200)\n",
        "\n",
        "\n",
        "contours, hierarchy= cv2.findContours(edges.copy(), cv2.RETR_EXTERNAL, cv2.CHAIN_APPROX_NONE)\n",
        "\n",
        "\n",
        "sorted_contours= sorted(contours, key=cv2.contourArea,)\n",
        "\n",
        "\n",
        "for (i,c) in enumerate(sorted_contours):\n",
        "    # print(c)\n",
        "    rect = cv2.minAreaRect(c)\n",
        "    # print(rect)\n",
        "    box = cv2.boxPoints(rect)\n",
        "    # box = np.int0(box)\n",
        "    # print(box)\n",
        "\n",
        "    M= cv2.moments(c)\n",
        "    cx= int(M['m10']/M['m00'])\n",
        "    cy= int(M['m01']/M['m00'])\n",
        "\n",
        "    for (room_name_position_x, room_name_position_y, room_name) in new_OCR:\n",
        "      # if (box[0][0] < room_name_position_x < box[2][0] and box[1][1] < room_name_position_y < box[3][1]):\n",
        "        # print(c)\n",
        "      if (room_name_position_x, room_name_position_y) in c:\n",
        "        cv2.putText(image, text= str(room_name), org=(cx,cy),\n",
        "            fontFace= cv2.FONT_HERSHEY_SIMPLEX, fontScale=1, color=(255,255,255),\n",
        "            thickness=2, lineType=cv2.LINE_AA)\n",
        "        area[str(room_name)]= cv2.contourArea(c)\n",
        "        # break\n",
        "plt.imshow(image)\n",
        "plt.show()\n",
        "\n",
        "# print(area)\n",
        "\n",
        "\n",
        "# http://www.learningaboutelectronics.com/Articles/How-to-label-objects-in-an-image-Python-OpenCV.php\n",
        "# https://pythonmana.com/2021/10/20211022180215499A.html\n",
        "\n",
        "# cv2.putText not surpport chinese"
      ],
      "metadata": {
        "colab": {
          "base_uri": "https://localhost:8080/",
          "height": 132
        },
        "id": "QTRSQ7HpslSp",
        "outputId": "aaca3d0e-a527-4bcb-df83-09aa0a1427a7"
      },
      "execution_count": null,
      "outputs": [
        {
          "output_type": "error",
          "ename": "IndentationError",
          "evalue": "ignored",
          "traceback": [
            "\u001b[0;36m  File \u001b[0;32m\"<ipython-input-68-8ddb25fd5fba>\"\u001b[0;36m, line \u001b[0;32m33\u001b[0m\n\u001b[0;31m    if (room_name_position_x, room_name_position_y) in c:\u001b[0m\n\u001b[0m                                                         ^\u001b[0m\n\u001b[0;31mIndentationError\u001b[0m\u001b[0;31m:\u001b[0m unindent does not match any outer indentation level\n"
          ]
        }
      ]
    },
    {
      "cell_type": "markdown",
      "source": [
        "compare rooms' size"
      ],
      "metadata": {
        "id": "_gRVl4WL-NYa"
      }
    },
    {
      "cell_type": "code",
      "source": [
        "# save roomname & roomsize on dict area\n",
        "area = {};\n",
        "for (room_name_position_x, room_name_position_y, room_name) in new_OCR:\n",
        "  if (room_name_position_x, room_name_position_y) in c:\n",
        "    cv2.putText(image, text= str(room_name), org=(cx,cy), fontFace= cv2.FONT_HERSHEY_SIMPLEX, fontScale=1, color=(255,255,255),thickness=2, lineType=cv2.LINE_AA)\n",
        "    area[str(room_name)]= cv2.contourArea(c)\n",
        "    # break\n",
        "\n",
        "print(sorted(area.items(), key=lambda x:x[1]))\n",
        "\n",
        "\n"
      ],
      "metadata": {
        "colab": {
          "base_uri": "https://localhost:8080/"
        },
        "id": "G4J0A-lT-Mkj",
        "outputId": "ca0b99ef-7714-41bf-e64b-8c114a837839"
      },
      "execution_count": null,
      "outputs": [
        {
          "output_type": "stream",
          "name": "stdout",
          "text": [
            "[('text1', 64399.5), ('text2', 64399.5), ('text4', 64399.5), ('text6', 64399.5), ('text7', 64399.5), ('text8', 64399.5), ('text9', 64399.5), ('text10', 64399.5), ('text11', 64399.5), ('text12', 64399.5), ('text15', 64399.5), ('text18', 64399.5)]\n"
          ]
        }
      ]
    },
    {
      "cell_type": "markdown",
      "source": [
        "floor plan center can't be kichen or bathroom"
      ],
      "metadata": {
        "id": "m6VPRPvr_w3f"
      }
    },
    {
      "cell_type": "code",
      "source": [
        "# \n",
        "\n",
        "image1= cv2.imread('detectOuterContours.png')\n",
        "\n",
        "M1 = cv2.moments(image1)\n",
        "cx= int(M['m10']/M['m00'])\n",
        "cy= int(M['m01']/M['m00'])\n",
        "\n",
        "for i in enumerate(sorted_contours):\n",
        "if cx,cy in \n",
        "print(M1)\n",
        "\n",
        "\n",
        "# for 'text1' in new_OCR\n",
        "# if\n",
        "# print('廚房居中')"
      ],
      "metadata": {
        "colab": {
          "base_uri": "https://localhost:8080/",
          "height": 237
        },
        "id": "08-aGZL7_wSw",
        "outputId": "1c2f1e03-2ed9-4821-85e2-f4e2ddf8692f"
      },
      "execution_count": null,
      "outputs": [
        {
          "output_type": "error",
          "ename": "error",
          "evalue": "ignored",
          "traceback": [
            "\u001b[0;31m---------------------------------------------------------------------------\u001b[0m",
            "\u001b[0;31merror\u001b[0m                                     Traceback (most recent call last)",
            "\u001b[0;32m<ipython-input-71-01a58a57b84b>\u001b[0m in \u001b[0;36m<module>\u001b[0;34m()\u001b[0m\n\u001b[1;32m      3\u001b[0m \u001b[0mimage1\u001b[0m\u001b[0;34m=\u001b[0m \u001b[0mcv2\u001b[0m\u001b[0;34m.\u001b[0m\u001b[0mimread\u001b[0m\u001b[0;34m(\u001b[0m\u001b[0;34m'detectOuterContours.png'\u001b[0m\u001b[0;34m)\u001b[0m\u001b[0;34m\u001b[0m\u001b[0;34m\u001b[0m\u001b[0m\n\u001b[1;32m      4\u001b[0m \u001b[0;34m\u001b[0m\u001b[0m\n\u001b[0;32m----> 5\u001b[0;31m \u001b[0mM1\u001b[0m \u001b[0;34m=\u001b[0m \u001b[0mcv2\u001b[0m\u001b[0;34m.\u001b[0m\u001b[0mmoments\u001b[0m\u001b[0;34m(\u001b[0m\u001b[0mimage1\u001b[0m\u001b[0;34m)\u001b[0m\u001b[0;34m\u001b[0m\u001b[0;34m\u001b[0m\u001b[0m\n\u001b[0m\u001b[1;32m      6\u001b[0m \u001b[0mcx\u001b[0m\u001b[0;34m=\u001b[0m \u001b[0mint\u001b[0m\u001b[0;34m(\u001b[0m\u001b[0mM\u001b[0m\u001b[0;34m[\u001b[0m\u001b[0;34m'm10'\u001b[0m\u001b[0;34m]\u001b[0m\u001b[0;34m/\u001b[0m\u001b[0mM\u001b[0m\u001b[0;34m[\u001b[0m\u001b[0;34m'm00'\u001b[0m\u001b[0;34m]\u001b[0m\u001b[0;34m)\u001b[0m\u001b[0;34m\u001b[0m\u001b[0;34m\u001b[0m\u001b[0m\n\u001b[1;32m      7\u001b[0m \u001b[0mcy\u001b[0m\u001b[0;34m=\u001b[0m \u001b[0mint\u001b[0m\u001b[0;34m(\u001b[0m\u001b[0mM\u001b[0m\u001b[0;34m[\u001b[0m\u001b[0;34m'm01'\u001b[0m\u001b[0;34m]\u001b[0m\u001b[0;34m/\u001b[0m\u001b[0mM\u001b[0m\u001b[0;34m[\u001b[0m\u001b[0;34m'm00'\u001b[0m\u001b[0;34m]\u001b[0m\u001b[0;34m)\u001b[0m\u001b[0;34m\u001b[0m\u001b[0;34m\u001b[0m\u001b[0m\n",
            "\u001b[0;31merror\u001b[0m: OpenCV(4.6.0) /io/opencv/modules/imgproc/src/moments.cpp:587: error: (-5:Bad argument) Invalid image type (must be single-channel) in function 'moments'\n"
          ]
        }
      ]
    }
  ]
}