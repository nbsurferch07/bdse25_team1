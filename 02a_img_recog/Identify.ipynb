{
  "nbformat": 4,
  "nbformat_minor": 0,
  "metadata": {
    "colab": {
      "name": "add_text",
      "provenance": [],
      "collapsed_sections": []
    },
    "kernelspec": {
      "name": "python3",
      "display_name": "Python 3"
    },
    "language_info": {
      "name": "python"
    }
  },
  "cells": [
    {
      "cell_type": "code",
      "execution_count": null,
      "metadata": {
        "colab": {
          "base_uri": "https://localhost:8080/"
        },
        "id": "8MmInrZCsdnF",
        "outputId": "1b5093a3-f031-4b52-e79f-a40350f92dde"
      },
      "outputs": [
        {
          "output_type": "stream",
          "name": "stdout",
          "text": [
            "Mounted at /content/drive\n"
          ]
        }
      ],
      "source": [
        "# in google colab\n",
        "from google.colab import drive\n",
        "drive.mount('/content/drive')"
      ]
    },
    {
      "cell_type": "code",
      "source": [
        "import os, sys\n",
        "import pandas as pd\n",
        "import numpy as np\n",
        "import glob"
      ],
      "metadata": {
        "id": "L5BBxDNSs1iG"
      },
      "execution_count": null,
      "outputs": []
    },
    {
      "cell_type": "code",
      "source": [
        "OCR = pd.DataFrame\n",
        "OCR = [[[[252, 5], [286, 5], [286, 37], [252, 37]], 'text1'],\n",
        " [[[333, 50], [476, 50], [476, 82], [333, 82]], 'text2'],\n",
        " [[[573, 68], [717, 68], [717, 100], [573, 100]], 'text3'],\n",
        " [[[385, 135], [424, 135], [424, 159], [385, 159]], 'text4'],\n",
        " [[[674, 154], [712, 154], [712, 175], [674, 175]], 'text5'],\n",
        " [[[252, 182], [303, 182], [303, 239], [252, 239]], 'text6'],\n",
        " [[[541, 200], [581, 200], [581, 221], [541, 221]], 'text7'],\n",
        " [[[510, 269], [539, 269], [539, 296], [510, 296]], 'text8'],\n",
        " [[[577, 277], [615, 277], [615, 298], [577, 298]], 'text9'],\n",
        " [[[685, 273], [736, 273], [736, 303], [685, 303]], 'text10'],\n",
        " [[[371, 287], [435, 287], [435, 325], [371, 325]], 'text11'],\n",
        " [[[477, 394], [543, 394], [543, 431], [477, 431]], 'text12'],\n",
        " [[[565, 405], [616, 405], [616, 434], [565, 434]], 'text13'],\n",
        " [[[669, 408], [740, 408], [740, 437], [669, 437]], 'text14'],\n",
        " [[[506, 499], [557, 499], [557, 529], [506, 529]], 'text15'],\n",
        " [[[592, 503], [633, 503], [633, 529], [592, 529]], 'text16'],\n",
        " [[[670, 498], [743, 498], [743, 554], [670, 554]], 'text17'],\n",
        " [[[263, 683], [744, 683], [744, 768], [263, 768]],\n",
        "  \"text18\"]]\n",
        "\n",
        "new_OCR = []\n",
        "for i in OCR:\n",
        "  i = i[0][0][0], i[0][0][1], i[-1]\n",
        "  new_OCR.append(i)\n",
        "\n",
        "print(new_OCR)"
      ],
      "metadata": {
        "colab": {
          "base_uri": "https://localhost:8080/"
        },
        "id": "pX2oLzPGvqKT",
        "outputId": "216bd596-98b9-4ea5-da64-04350d571e21"
      },
      "execution_count": null,
      "outputs": [
        {
          "output_type": "stream",
          "name": "stdout",
          "text": [
            "[(252, 5, 'text1'), (333, 50, 'text2'), (573, 68, 'text3'), (385, 135, 'text4'), (674, 154, 'text5'), (252, 182, 'text6'), (541, 200, 'text7'), (510, 269, 'text8'), (577, 277, 'text9'), (685, 273, 'text10'), (371, 287, 'text11'), (477, 394, 'text12'), (565, 405, 'text13'), (669, 408, 'text14'), (506, 499, 'text15'), (592, 503, 'text16'), (670, 498, 'text17'), (263, 683, 'text18')]\n"
          ]
        }
      ]
    },
    {
      "cell_type": "code",
      "source": [
        "import cv2\n",
        "import matplotlib.pyplot as plt\n",
        "# defines path to csv files\n",
        "path = \"/content/drive/MyDrive/ColabNotebooks\"\n",
        "os.chdir(path)\n",
        "\n",
        "image= cv2.imread('coloblocks.png')\n",
        "original_image= image\n",
        "\n",
        "gray= cv2.cvtColor(image,cv2.COLOR_BGR2GRAY)\n",
        "\n",
        "edges= cv2.Canny(gray, 50,200)\n",
        "\n",
        "\n",
        "contours, hierarchy= cv2.findContours(edges.copy(), cv2.RETR_EXTERNAL, cv2.CHAIN_APPROX_NONE)\n",
        "\n",
        "\n",
        "sorted_contours= sorted(contours, key=cv2.contourArea,)\n",
        "\n",
        "\n",
        "for (i,c) in enumerate(sorted_contours):\n",
        "    # print(c)\n",
        "    rect = cv2.minAreaRect(c)\n",
        "    # print(rect)\n",
        "    box = cv2.boxPoints(rect)\n",
        "    # box = np.int0(box)\n",
        "    # print(box)\n",
        "\n",
        "    M= cv2.moments(c)\n",
        "    cx= int(M['m10']/M['m00'])\n",
        "    cy= int(M['m01']/M['m00'])\n",
        "\n",
        "    for (room_name_position_x, room_name_position_y, room_name) in new_OCR:\n",
        "      if (box[0][0] < room_name_position_x < box[2][0] and box[1][1] < room_name_position_y < box[3][1]):\n",
        "      # if (room_name_position_x, room_name_position_y) in c:\n",
        "        cv2.putText(image, text= str(room_name), org=(cx,cy),\n",
        "            fontFace= cv2.FONT_HERSHEY_SIMPLEX, fontScale=1, color=(255,255,255),\n",
        "            thickness=2, lineType=cv2.LINE_AA)\n",
        "        break\n",
        "plt.imshow(image)\n",
        "plt.show()\n",
        "\n",
        "# http://www.learningaboutelectronics.com/Articles/How-to-label-objects-in-an-image-Python-OpenCV.php\n",
        "# https://pythonmana.com/2021/10/20211022180215499A.html\n",
        "\n",
        "# cv2.putText not surpport chinese"
      ],
      "metadata": {
        "colab": {
          "base_uri": "https://localhost:8080/",
          "height": 269
        },
        "id": "QTRSQ7HpslSp",
        "outputId": "ae86f17a-325d-40c1-8491-a838567a7812"
      },
      "execution_count": null,
      "outputs": [
        {
          "output_type": "display_data",
          "data": {
            "text/plain": [
              "<Figure size 432x288 with 1 Axes>"
            ],
            "image/png": "[encoded data removed]"
          },
          "metadata": {
            "needs_background": "light"
          }
        }
      ]
    }
  ]
}