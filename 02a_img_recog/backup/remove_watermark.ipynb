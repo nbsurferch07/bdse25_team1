{
 "cells": [
  {
   "cell_type": "markdown",
   "id": "460c7e64",
   "metadata": {},
   "source": [
    "# removeWatermark"
   ]
  },
  {
   "cell_type": "code",
   "execution_count": 46,
   "id": "cbf5ba8b",
   "metadata": {},
   "outputs": [],
   "source": [
    "# 思路:只需要輸出黑色像素\n",
    "import numpy as np\n",
    "import cv2\n",
    "import os\n",
    "\n",
    "# define range of black color in HSV\n",
    "lower_val = np.array([0,0,0])\n",
    "upper_val = np.array([0,255,150])\n",
    "\n",
    "# load image in file\n",
    "\n",
    "file_list = os.listdir(file_root)\n",
    "file_num = len(file_list)\n",
    "file_root = \"./raw\" \n",
    "Mask_out = \"./Mask/\"\n",
    "Denoising_out = \"./Denoising/\"\n",
    "\n",
    "for img_name in file_list:\n",
    "    \n",
    "# 篩選jpg圖片\n",
    "    if img_name.endswith('.jpg'):\n",
    "        img_path =file_root +'/'+img_name\n",
    "        img = cv2.imread(img_path)\n",
    "        \n",
    "# Convert BGR to HSV\n",
    "        hsv= cv2.cvtColor(img, cv2.COLOR_BGR2HSV)\n",
    "    \n",
    "# Threshold the HSV image to get only black colors\n",
    "        mask = cv2.inRange(hsv, lower_val, upper_val)\n",
    "        \n",
    "# invert mask to get black symbols on white background\n",
    "        mask_inv = cv2.bitwise_not(mask)\n",
    "    \n",
    "# 匯出檔名\n",
    "        out_name = img_name.split('.')[0]\n",
    "        \n",
    "#  檔名前加上rmw, 代表已完成移除浮水印的處理\n",
    "        save_path = Mask_out + 'M' + out_name + '.jpg'\n",
    "    \n",
    "# save image\n",
    "        cv2.imwrite(save_path,mask_inv)\n",
    "\n",
    "    \n",
    "#降噪＆平滑 5選1即可\n",
    "\n",
    "\n",
    "# 移除躁點 檔名前加上Ｎ, 代表已完成移除噪點\n",
    "# # 均值\n",
    "#         Noise = cv2.blur(mask_inv, (3,3))\n",
    "#         save_path = Noising_out + 'N' + out_name + '.jpg'\n",
    "#         cv2.imwrite(save_path,Noise)\n",
    "# # 方框+normalize\n",
    "#         Noise = cv2.boxFilter(mask_inv, -1, (3,3), normalize=True)\n",
    "#         save_path = Noising_out + 'N' + out_name + '.jpg'\n",
    "#         cv2.imwrite(save_path,Noise)\n",
    "\n",
    "# # 方框+不normalize\n",
    "#         Noise = cv2.boxFilter(mask_inv, -1, (3,3), normalize=False)\n",
    "#         save_path = Noising_out + 'N' + out_name + '.jpg'\n",
    "#         cv2.imwrite(save_path,Noise)\n",
    "# # 高斯\n",
    "#         Noise = cv2.GaussianBlur(mask_inv, (5,5),1)\n",
    "#         save_path = Noising_out + 'N' + out_name + '.jpg'\n",
    "#         cv2.imwrite(save_path,Noise)\n",
    "# 中位數\n",
    "        Noise = cv2.medianBlur(mask_inv, 3)\n",
    "        save_path = Noising_out + 'DM' + out_name + '.jpg'\n",
    "        cv2.imwrite(save_path,Noise)\n",
    "\n",
    "# 參考: \n",
    "# 篩選黑色\n",
    "# https://stackoverflow.com/questions/54978271/opencv-plot-black-pixels-on-a-image        \n",
    "# 批量\n",
    "# https://blog.csdn.net/qq_35872942/article/details/107774134\n",
    "# 濾噪\n",
    "# https://blog.csdn.net/qq_36758914/article/details/104027340\n",
    "\n",
    "\n",
    "# 下一步目標\n",
    "# 彩色圖片(可以轉灰階,去噪)\n",
    "# 文字辨識,分割\n",
    "# 家具辨識,分割"
   ]
  },
  {
   "cell_type": "code",
   "execution_count": 243,
   "id": "27e67700-edc8-4520-beac-ff96ab5bd9e3",
   "metadata": {
    "tags": []
   },
   "outputs": [],
   "source": [
    "# 圖片轉灰階\n",
    "img=cv2.imread('./91530L.jpg')\n",
    "gray= cv2.cvtColor(img, cv2.COLOR_BGR2GRAY)"
   ]
  },
  {
   "cell_type": "code",
   "execution_count": 244,
   "id": "c643f4d9-743b-4eee-b189-a8bd7df1dcf0",
   "metadata": {
    "tags": []
   },
   "outputs": [],
   "source": [
    "# 調整亮度、對比度\n",
    "import math\n",
    "brightness = 0\n",
    "contrast = 100 # - 減少對比度/+ 增加對比度\n",
    "\n",
    "B = brightness / 255.0\n",
    "c = contrast / 255.0 \n",
    "k = math.tan((45 + 44 * c) / 180 * math.pi)\n",
    "\n",
    "gray = (gray - 127.5 * (1 - B)) * k + 127.5 * (1 + B)\n",
    "\n",
    "# 所有值必須介於 0~255 之間，超過255 = 255，小於 0 = 0\n",
    "gray = np.clip(gray, 0, 255).astype(np.uint8)"
   ]
  },
  {
   "cell_type": "code",
   "execution_count": 245,
   "id": "51b24c5f-6311-4769-8108-734fae16af7e",
   "metadata": {},
   "outputs": [],
   "source": [
    "# 濾鏡\n",
    "# gray = cv2.medianBlur(gray,5)\n",
    "# gray = cv2.GaussianBlur(gray, (5,5),1)\n",
    "# gray = cv2.boxFilter(gray, -1, (3,3), normalize=True)\n",
    "cv2.imshow('img',img)\n",
    "cv2.imshow('gray',gray)\n",
    "cv2.waitKey(0)\n",
    "cv2.destroyAllWindows()"
   ]
  },
  {
   "cell_type": "code",
   "execution_count": 247,
   "id": "968c6b2e-c4bf-4f0f-9882-1db7766c68fe",
   "metadata": {},
   "outputs": [],
   "source": [
    "# threshholding 影像二值化\n",
    "thresh, img1 = cv2.threshold( gray, 127, 255, cv2.THRESH_BINARY )\n",
    "img2 = cv2.adaptiveThreshold( gray, 255, \n",
    "\t   cv2.ADAPTIVE_THRESH_MEAN_C, cv2.THRESH_BINARY, 11, 2 )\n",
    "img3 = cv2.adaptiveThreshold( gray, 255, \n",
    "\t   cv2.ADAPTIVE_THRESH_GAUSSIAN_C, cv2.THRESH_BINARY, 11, 2 )\n",
    "cv2.imshow( \"Original Image\",  gray )\t\n",
    "cv2.imshow( \"Global Thresholding\", img1 )\n",
    "# cv2.imshow( \"Adaptive Thresholding(Mean)\", img2 )\n",
    "# cv2.imshow( \"Adaptive Thresholding(Gaussian)\", img3 )\n",
    "cv2.waitKey( 0 )\n",
    "cv2.destroyAllWindows()"
   ]
  },
  {
   "cell_type": "markdown",
   "id": "ce724a75-651c-48fa-ae36-a5ab58f62211",
   "metadata": {},
   "source": [
    "## reference "
   ]
  },
  {
   "cell_type": "markdown",
   "id": "4ab2a686-4563-4f3b-b64c-30807f50f462",
   "metadata": {},
   "source": [
    "<p>https://ithelp.ithome.com.tw/articles/10240032</p>\n",
    "<p>https://shengyu7697.github.io/python-opencv-threshold/</p>"
   ]
  }
 ],
 "metadata": {
  "kernelspec": {
   "display_name": "Python 3 (ipykernel)",
   "language": "python",
   "name": "python3"
  },
  "language_info": {
   "codemirror_mode": {
    "name": "ipython",
    "version": 3
   },
   "file_extension": ".py",
   "mimetype": "text/x-python",
   "name": "python",
   "nbconvert_exporter": "python",
   "pygments_lexer": "ipython3",
   "version": "3.9.11"
  }
 },
 "nbformat": 4,
 "nbformat_minor": 5
}
