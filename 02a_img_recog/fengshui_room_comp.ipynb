{
 "cells": [
  {
   "cell_type": "markdown",
   "metadata": {},
   "source": [
    "## Import packages"
   ]
  },
  {
   "cell_type": "code",
   "execution_count": 1,
   "metadata": {},
   "outputs": [],
   "source": [
    "from utils.FloorplanToBlenderLib import *\n",
    "from PIL import Image\n",
    "# from IPython.display import display\n",
    "import cv2\n",
    "import numpy as np\n",
    "import pandas as pd\n",
    "import math\n",
    "import random \n",
    "import easyocr\n",
    "import ctypes\n",
    "from shapely.geometry import Point\n",
    "from shapely.geometry.polygon import Polygon"
   ]
  },
  {
   "cell_type": "markdown",
   "metadata": {},
   "source": [
    "### img process"
   ]
  },
  {
   "cell_type": "code",
   "execution_count": 3,
   "metadata": {},
   "outputs": [],
   "source": [
    "def remove_noise(img):\n",
    "    # get binary image\n",
    "    img_gray = cv2.cvtColor(img, cv2.COLOR_BGR2GRAY)  # convert to gray\n",
    "    thresh = cv2.threshold(img_gray, 135, 255, cv2.THRESH_BINARY)[1] # convert to binary\n",
    "    img = cv2.cvtColor(thresh, cv2.COLOR_GRAY2BGR)\n",
    "    \n",
    "    # contour hierarchy\n",
    "    regions, hierarchy = cv2.findContours(thresh, cv2.RETR_TREE, cv2.CHAIN_APPROX_SIMPLE)\n",
    "    # detect all elements\n",
    "    countour_list = []\n",
    "    for region in regions:\n",
    "        x, y, w, h = cv2.boundingRect(region)\n",
    "        countour_list.append([x, y, w, h])\n",
    "    \n",
    "    # get 2nd largest contour\n",
    "    countour_list = np.asarray(countour_list)  # convert to numpy-array\n",
    "    column_values = ['left', 'top', 'width', 'height']\n",
    "    df = pd.DataFrame(data = countour_list, columns = column_values)\n",
    "    df = df.sort_values(by='width', ascending=False)\n",
    "\n",
    "    index = df.iloc[1]\n",
    "    x, y, w, h = index['left'], index['top'], index['width'], index['height']\n",
    "\n",
    "    \n",
    "    # remove outside noise\n",
    "    img[:, :x] = [255, 255, 255]\n",
    "    img[x + w + 1:, :] = [255, 255, 255]\n",
    "    img[:y, :] = [255, 255, 255]\n",
    "    img[y + h + 1:, :] = [255, 255, 255]\n",
    "    \n",
    "    return img\n",
    "\n",
    "\n",
    "\n",
    "def load_easyocr_model(img):\n",
    "    # get words position\n",
    "    result = reader.readtext(img,\n",
    "                             detail=1,\n",
    "                             paragraph=True, # Combine result into paragraph\n",
    "                             x_ths=0.1, # Maximum horizontal distance to merge text boxes when paragraph=True\n",
    "                             y_ths=0.5, # Maximum verticall distance to merge text boxes when paragraph=True\n",
    "                             # width_ths=0.1,\n",
    "                             # height_ths=0.1,\n",
    "                             mag_ratio=1.2,\n",
    "                             )\n",
    "    return result\n",
    "\n",
    "\n",
    "\n",
    "def get_words_position(img):\n",
    "    cp_list = []\n",
    "    \n",
    "    # load easyocr to get words position\n",
    "    words_result = load_easyocr_model(img)\n",
    "    \n",
    "    for word in words_result:        \n",
    "        # get center point of each word\n",
    "        x = (word[0][1][1] + word[0][2][1]) / 2  # gey x\n",
    "        y = (word[0][0][0] + word[0][1][0]) / 2  # get y\n",
    "        \n",
    "        # put in center of gravity list\n",
    "        cp_list.append([[y, x], word[1]])\n",
    "\n",
    "    return cp_list\n",
    "\n",
    "\n",
    "def get_boxes(img):\n",
    "    # get boxes\n",
    "    gray = cv2.cvtColor(img, cv2.COLOR_BGR2GRAY)\n",
    "    gray = detect.wall_filter(gray)\n",
    "\n",
    "    gray = ~gray\n",
    "\n",
    "    rooms, colored_rooms = detect.find_rooms(gray.copy())\n",
    "\n",
    "    gray_rooms =  cv2.cvtColor(colored_rooms, cv2.COLOR_BGR2GRAY)\n",
    "\n",
    "    # get box positions for rooms\n",
    "    boxes, gray_rooms = detect.detectPreciseBoxes(gray_rooms, gray_rooms)\n",
    "    \n",
    "    return boxes, gray_rooms\n",
    "\n",
    "\n",
    "def correct_name(val):\n",
    "    # correct to the right room name\n",
    "    bed_room = ['堅', '臥 室', '臥 堂', '室', '臥室']\n",
    "    bth_room = ['瑜', '}', '浴廁']\n",
    "    lk_room = ['裘', '更衣室']\n",
    "    d_room = ['餐廳']\n",
    "    l_room = ['客廳']\n",
    "    kit = ['廚房']\n",
    "    \n",
    "    if val in bed_room: val = '臥室' # bedroom\n",
    "        \n",
    "    elif val in bth_room: val = '浴廁' # bathroom\n",
    "        \n",
    "    elif val in d_room: val = '餐廳' # dining room\n",
    "        \n",
    "    elif val in l_room: val = '客廳' # living room\n",
    "        \n",
    "    elif val in kit: val = '廚房' # kitchen\n",
    "        \n",
    "    else: val = '其他' # others\n",
    "        \n",
    "    return val\n",
    "\n",
    "\n",
    "def get_room_dict(img):\n",
    "    \n",
    "    # build room dictionary\n",
    "    room_dict = {\n",
    "        '臥室':[],\n",
    "        '浴廁':[],\n",
    "        '餐廳':[],\n",
    "        '客廳':[],\n",
    "        '廚房':[],\n",
    "        '其他':[],\n",
    "    }\n",
    "    \n",
    "    # get room contour\n",
    "    boxes, gray_rooms = get_boxes(img)\n",
    "    \n",
    "    # get center point of each room type\n",
    "    cp_list = get_words_position(img)\n",
    "    \n",
    "    for box in boxes:\n",
    "        area = cv2.contourArea(box)\n",
    "        new_arr = np.reshape(np.ravel(box), (-1, 2)) # equivalent to C ravel then C reshape\n",
    "        box = new_arr.tolist() # convert to python scalar\n",
    "        \n",
    "        # check whether the point in the box \n",
    "        polygon = Polygon(box)\n",
    "        for cp in cp_list:\n",
    "            point = Point(cp[0]) # cp[0] => coordinate \n",
    "            \n",
    "            # if yes, add to the room dictionary\n",
    "            if polygon.contains(point):\n",
    "                val = correct_name(cp[1]) # check and correct to the right room name\n",
    "                room_dict[val].append([box, area])\n",
    "\n",
    "    return room_dict\n",
    "\n",
    "\n",
    "def get_info(img, select_room_type):\n",
    "    \n",
    "    # get room coordinate and type\n",
    "    room_dict = get_room_dict(img)\n",
    "    \n",
    "    # get coordinate(s) of specific room type\n",
    "    info_list = room_dict[select_room_type]\n",
    "        \n",
    "    return info_list"
   ]
  },
  {
   "cell_type": "markdown",
   "metadata": {},
   "source": [
    "### load easyocr model"
   ]
  },
  {
   "cell_type": "code",
   "execution_count": 2,
   "metadata": {},
   "outputs": [],
   "source": [
    "reader = easyocr.Reader(['ch_tra','en']) # this needs to run only once to load the model into memory"
   ]
  },
  {
   "cell_type": "code",
   "execution_count": 10,
   "metadata": {
    "tags": []
   },
   "outputs": [],
   "source": [
    "# load image\n",
    "img = cv2.imread(\"images/test7.jpg\")\n",
    "\n",
    "# process\n",
    "img = remove_noise(img)\n",
    "# gray = cv2.cvtColor(img, cv2.COLOR_BGR2GRAY)\n",
    "\n",
    "\n",
    "select_room_type = '臥室'\n",
    "info_list = get_info(img, select_room_type)"
   ]
  },
  {
   "cell_type": "code",
   "execution_count": 11,
   "metadata": {},
   "outputs": [
    {
     "name": "stdout",
     "output_type": "stream",
     "text": [
      "[[[447, 403], [447, 521], [550, 521], [550, 403]], 12154.0]\n",
      "[[[445, 164], [445, 319], [553, 319], [553, 164]], 16740.0]\n",
      "[[[431, 150], [400, 150], [400, 160], [399, 161], [331, 161], [329, 162], [329, 319], [431, 319]], 16456.5]\n",
      "[[[159, 129], [159, 359], [160, 360], [266, 360], [270, 362], [270, 374], [345, 374], [345, 335], [318, 335], [315, 332], [315, 162], [314, 161], [191, 161], [190, 160], [190, 129]], 33844.0]\n"
     ]
    }
   ],
   "source": [
    "for i in info_list:\n",
    "    print(i)"
   ]
  },
  {
   "cell_type": "markdown",
   "metadata": {},
   "source": [
    "### Adjust reference to check if the text is recognized"
   ]
  },
  {
   "cell_type": "code",
   "execution_count": 9,
   "metadata": {},
   "outputs": [
    {
     "name": "stdout",
     "output_type": "stream",
     "text": [
      "[[612, 87], [673, 87], [673, 124], [612, 124]] ==> 陽台\n",
      "[[213, 123], [263, 123], [263, 153], [213, 153]] ==> 朗蹠\n",
      "[[788, 119], [848, 119], [848, 152], [788, 152]] ==> 雨遮\n",
      "[[355, 200], [396, 200], [396, 278], [355, 278]] ==> 臥 室\n",
      "[[477, 195], [516, 195], [516, 273], [477, 273]] ==> 臥 堂\n",
      "[[118, 209], [145, 209], [145, 272], [118, 272]] ==> 遮\n",
      "[[207, 212], [251, 212], [251, 294], [207, 294]] ==> 堅\n",
      "[[587, 228], [663, 228], [663, 271], [587, 271]] ==> 餐廳\n",
      "[[742, 220], [818, 220], [818, 263], [742, 263]] ==> 客廳\n",
      "[[207, 425], [244, 425], [244, 496], [207, 496]] ==> 瑜\n",
      "[[287, 398], [323, 398], [323, 498], [287, 498]] ==> 裘\n",
      "[[370, 423], [409, 423], [409, 491], [370, 491]] ==> }\n",
      "[[477, 410], [514, 410], [514, 488], [477, 488]] ==> 室\n",
      "[[602, 420], [678, 420], [678, 461], [602, 461]] ==> 廚房\n",
      "[[605, 517], [664, 517], [664, 553], [605, 553]] ==> 陽台\n",
      "[[459, 533], [524, 533], [524, 570], [459, 570]] ==> 雨遮\n"
     ]
    },
    {
     "data": {
      "image/png": "[encoded data removed]",
      "text/plain": [
       "<PIL.Image.Image image mode=RGB size=1024x768>"
      ]
     },
     "metadata": {},
     "output_type": "display_data"
    }
   ],
   "source": [
    "# image process\n",
    "check_img = img.copy()\n",
    "\n",
    "result = load_easyocr_model(check_img)\n",
    "\n",
    "for i in result:\n",
    "    \n",
    "    p1x = round(i[0][0][0])\n",
    "    p1y = round(i[0][0][1])\n",
    "    p2x = round(i[0][2][0])\n",
    "    p2y = round(i[0][2][1])\n",
    "    cv2.rectangle(check_img, (p1x, p1y), (p2x, p2y), (0,255,0),3)\n",
    "    \n",
    "    # cx = round(i[0][0])\n",
    "    # cy = round(i[0][1])\n",
    "    # cv2.circle(test,(cx,cy), 10, (0,0,255), -1)\n",
    "    \n",
    "    print(f'{i[0]} ==> {i[1]}')\n",
    "\n",
    "display(Image.fromarray(check_img))"
   ]
  },
  {
   "cell_type": "markdown",
   "metadata": {
    "tags": []
   },
   "source": [
    "### Detect Contours (Object Filter)"
   ]
  },
  {
   "cell_type": "code",
   "execution_count": null,
   "metadata": {},
   "outputs": [],
   "source": [
    "detect.detectOuterContours?"
   ]
  },
  {
   "cell_type": "code",
   "execution_count": null,
   "metadata": {
    "tags": []
   },
   "outputs": [],
   "source": [
    "# Create blank image\n",
    "height, width, channels = img.shape\n",
    "blank_image = np.zeros((height, width, 3), np.uint8)\n",
    "\n",
    "\n",
    "# detect outer Contours (simple floor or roof solution), paint them red on blank_image\n",
    "contour, img_contour = detect.detectOuterContours(gray, blank_image, color=(255, 0, 0))\n",
    "\n",
    "display(Image.fromarray(img_contour))"
   ]
  },
  {
   "cell_type": "markdown",
   "metadata": {},
   "source": [
    "### Check accuracy"
   ]
  },
  {
   "cell_type": "code",
   "execution_count": 28,
   "metadata": {},
   "outputs": [
    {
     "name": "stdout",
     "output_type": "stream",
     "text": [
      "coord: [[159, 129], [159, 359], [160, 360], [266, 360], [270, 362], [270, 374], [345, 374], [345, 335], [318, 335], [315, 332], [315, 162], [314, 161], [191, 161], [190, 160], [190, 129]]\n",
      "area: 33844.0\n"
     ]
    },
    {
     "data": {
      "image/png": "[encoded data removed]",
      "text/plain": [
       "<PIL.Image.Image image mode=RGB size=1024x768>"
      ]
     },
     "metadata": {},
     "output_type": "display_data"
    }
   ],
   "source": [
    "# only for check room type\n",
    "n = len(info_list)\n",
    "\n",
    "rnd = random.randint(0, n -1)\n",
    "# rnd=6\n",
    "\n",
    "test_bgr = cv2.cvtColor(gray, cv2.COLOR_GRAY2BGR)\n",
    "\n",
    "pts = np.array(info_list[rnd][0])\n",
    " \n",
    "# Using cv2.polylines() method drawing the contour\n",
    "test_bgr = cv2.polylines(test_bgr, \n",
    "                         [pts],\n",
    "                         True, # isClosed \n",
    "                         (255, 0, 0), # color \n",
    "                         2, # thickness\n",
    "                        )\n",
    "\n",
    "print(f'coord: {info_list[rnd][0]}\\narea: {info_list[rnd][1]}')\n",
    "display(Image.fromarray(test_bgr))"
   ]
  },
  {
   "cell_type": "code",
   "execution_count": null,
   "metadata": {},
   "outputs": [],
   "source": [
    "for i in room_list:\n",
    "    print(i)"
   ]
  },
  {
   "cell_type": "code",
   "execution_count": null,
   "metadata": {},
   "outputs": [],
   "source": [
    "# from memory get value\n",
    "# for i in mem_list:\n",
    "#     val = ctypes.cast(i, ctypes.py_object).value\n",
    "#     print(val)\n"
   ]
  },
  {
   "cell_type": "markdown",
   "metadata": {},
   "source": [
    "### Monument for Mingyao's code"
   ]
  },
  {
   "cell_type": "code",
   "execution_count": null,
   "metadata": {
    "tags": []
   },
   "outputs": [],
   "source": [
    "for index,value in enumerate(box_pos):\n",
    "    for i,j in xylist:\n",
    "        print(value.min(axis=1).max())\n",
    "        print(value.min(axis=1).min())\n",
    "        print(i)\n",
    "        if i > value.min(axis=1).min() and i < value.min(axis=1).max():\n",
    "            print('yes')\n",
    "        else:\n",
    "            print('no')\n",
    "    # print(value)"
   ]
  }
 ],
 "metadata": {
  "kernelspec": {
   "display_name": "Python 3 (ipykernel)",
   "language": "python",
   "name": "python3"
  },
  "language_info": {
   "codemirror_mode": {
    "name": "ipython",
    "version": 3
   },
   "file_extension": ".py",
   "mimetype": "text/x-python",
   "name": "python",
   "nbconvert_exporter": "python",
   "pygments_lexer": "ipython3",
   "version": "3.9.11"
  }
 },
 "nbformat": 4,
 "nbformat_minor": 4
}
