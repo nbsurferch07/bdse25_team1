{
 "cells": [
  {
   "cell_type": "markdown",
   "id": "8bd815f8-8233-4ad6-8639-875ef1fd097b",
   "metadata": {},
   "source": [
    "# House price predict"
   ]
  },
  {
   "cell_type": "markdown",
   "id": "c41fb337-0753-4c53-a9ca-af8fd4443245",
   "metadata": {
    "tags": []
   },
   "source": [
    "### Import pyspark module"
   ]
  },
  {
   "cell_type": "code",
   "execution_count": 1,
   "id": "63c64e6a-3ff8-4384-923e-fbc4019b43bb",
   "metadata": {},
   "outputs": [],
   "source": [
    "import numpy as np\n",
    "import pandas as pd\n",
    "import pyspark\n",
    "import sys"
   ]
  },
  {
   "cell_type": "code",
   "execution_count": 2,
   "id": "8fe8c880-c504-458f-af3d-b3fd076688f6",
   "metadata": {},
   "outputs": [],
   "source": [
    "# import SparkSession, 有 pip3 install pyspark\n",
    "from pyspark.sql import SparkSession\n",
    "import pyspark.sql.functions as fn\n",
    "from pyspark.sql.types import StringType,DoubleType,IntegerType"
   ]
  },
  {
   "cell_type": "code",
   "execution_count": 3,
   "id": "75ab85a8-d0f9-4b00-9032-f7770afc2aae",
   "metadata": {},
   "outputs": [],
   "source": [
    "import pyspark.pandas as ps"
   ]
  },
  {
   "cell_type": "code",
   "execution_count": 4,
   "id": "f841bcc3-2067-4265-af99-97fca873fe91",
   "metadata": {},
   "outputs": [],
   "source": [
    "# spark ml module\n",
    "from pyspark.ml.regression import LinearRegression\n",
    "from pyspark.ml.linalg import Vector\n",
    "from pyspark.ml.feature import VectorAssembler"
   ]
  },
  {
   "cell_type": "markdown",
   "id": "0135eb84-e555-44b8-b39e-2d3a21f165a1",
   "metadata": {
    "tags": []
   },
   "source": [
    "### Set spark session"
   ]
  },
  {
   "cell_type": "code",
   "execution_count": 5,
   "id": "a06147df-660b-49ee-8ef5-4f3811235fe3",
   "metadata": {},
   "outputs": [
    {
     "name": "stderr",
     "output_type": "stream",
     "text": [
      "Setting default log level to \"WARN\".\n",
      "To adjust logging level use sc.setLogLevel(newLevel). For SparkR, use setLogLevel(newLevel).\n"
     ]
    },
    {
     "name": "stdout",
     "output_type": "stream",
     "text": [
      "22/07/01 18:04:50 WARN NativeCodeLoader: Unable to load native-hadoop library for your platform... using builtin-java classes where applicable\n"
     ]
    }
   ],
   "source": [
    "# Local mode\n",
    "spark = SparkSession\\\n",
    "        .builder\\\n",
    "        .appName(\"linear-regression\")\\\n",
    "        .getOrCreate()"
   ]
  },
  {
   "cell_type": "code",
   "execution_count": 6,
   "id": "6792f554-e1f2-4717-b481-a3bce89b81d1",
   "metadata": {},
   "outputs": [
    {
     "data": {
      "text/plain": [
       "'linear-regression'"
      ]
     },
     "execution_count": 6,
     "metadata": {},
     "output_type": "execute_result"
    }
   ],
   "source": [
    "# Check spark app name\n",
    "spark.sparkContext.appName"
   ]
  },
  {
   "cell_type": "code",
   "execution_count": 7,
   "id": "523c5a0c-09de-4086-8eb9-397e2890a62a",
   "metadata": {},
   "outputs": [],
   "source": [
    "spark.conf.set(\"spark.sql.execution.arrow.pyspark.enabled\", True)"
   ]
  },
  {
   "cell_type": "code",
   "execution_count": 8,
   "id": "016cd525-1de3-4c80-9d50-d91b6ef26085",
   "metadata": {},
   "outputs": [],
   "source": [
    "ps.set_option(\"compute.default_index_type\", \"distributed\")"
   ]
  },
  {
   "cell_type": "code",
   "execution_count": 9,
   "id": "48f8199f-7e87-4299-ac2f-636edce0f016",
   "metadata": {},
   "outputs": [
    {
     "data": {
      "text/plain": [
       "'3.3.0'"
      ]
     },
     "execution_count": 9,
     "metadata": {},
     "output_type": "execute_result"
    }
   ],
   "source": [
    "# Spark version\n",
    "spark.version"
   ]
  },
  {
   "cell_type": "code",
   "execution_count": 10,
   "id": "a0912a3f-0a71-42e8-8fb4-d969505ec892",
   "metadata": {},
   "outputs": [
    {
     "data": {
      "text/html": [
       "\n",
       "            <div>\n",
       "                <p><b>SparkSession - in-memory</b></p>\n",
       "                \n",
       "        <div>\n",
       "            <p><b>SparkContext</b></p>\n",
       "\n",
       "            <p><a href=\"http://ubuntu30.example.com:4040\">Spark UI</a></p>\n",
       "\n",
       "            <dl>\n",
       "              <dt>Version</dt>\n",
       "                <dd><code>v3.3.0</code></dd>\n",
       "              <dt>Master</dt>\n",
       "                <dd><code>local[*]</code></dd>\n",
       "              <dt>AppName</dt>\n",
       "                <dd><code>linear-regression</code></dd>\n",
       "            </dl>\n",
       "        </div>\n",
       "        \n",
       "            </div>\n",
       "        "
      ],
      "text/plain": [
       "<pyspark.sql.session.SparkSession at 0x7fc1bb681b80>"
      ]
     },
     "execution_count": 10,
     "metadata": {},
     "output_type": "execute_result"
    }
   ],
   "source": [
    "spark"
   ]
  },
  {
   "cell_type": "markdown",
   "id": "ca509d42-c4fc-4887-8e7f-7dc63b1bd376",
   "metadata": {},
   "source": [
    "## Feature Engineering"
   ]
  },
  {
   "cell_type": "markdown",
   "id": "2b90f7d5-3dcb-4584-a315-2926f67fa43d",
   "metadata": {},
   "source": [
    "### Data loading & processing"
   ]
  },
  {
   "cell_type": "code",
   "execution_count": 11,
   "id": "b5189cf3-b24a-435b-bb05-b8f0e5fdef01",
   "metadata": {},
   "outputs": [
    {
     "name": "stderr",
     "output_type": "stream",
     "text": [
      "/usr/local/lib/python3.8/dist-packages/pyspark/pandas/utils.py:975: PandasAPIOnSparkAdviceWarning: If `index_col` is not specified for `read_csv`, the default index is attached which can cause additional overhead.\n",
      "  warnings.warn(message, PandasAPIOnSparkAdviceWarning)\n"
     ]
    }
   ],
   "source": [
    "# load data from pandas-output\n",
    "psdf = ps.read_csv(\"taipei_output.csv\")"
   ]
  },
  {
   "cell_type": "code",
   "execution_count": 12,
   "id": "18aee28c-e514-40fd-b115-5b38dc1f71ed",
   "metadata": {
    "tags": []
   },
   "outputs": [
    {
     "name": "stderr",
     "output_type": "stream",
     "text": [
      "/usr/local/lib/python3.8/dist-packages/pyspark/pandas/utils.py:975: PandasAPIOnSparkAdviceWarning: If `index_col` is not specified for `to_spark`, the existing index is lost when converting to Spark DataFrame.\n",
      "  warnings.warn(message, PandasAPIOnSparkAdviceWarning)\n"
     ]
    },
    {
     "name": "stdout",
     "output_type": "stream",
     "text": [
      "22/07/01 18:05:42 WARN CSVHeaderChecker: CSV header does not conform to the schema.\n",
      " Header: , 鄉鎮市區, 交易標的, 土地移轉總面積平方公尺, 交易年月日, 移轉層次, 建物型態, 建物現況格局-房, 建物現況格局-廳, 建物現況格局-衛, 總價元\n",
      " Schema: _c0, 鄉鎮市區, 交易標的, 土地移轉總面積平方公尺, 交易年月日, 移轉層次, 建物型態, 建物現況格局-房, 建物現況格局-廳, 建物現況格局-衛, 總價元\n",
      "Expected: _c0 but found: \n",
      "CSV file: file:///home/dtsurfer07/00_final_project_tutorial/taipei_output.csv\n",
      "+---+--------+--------+----------------------+----------+--------+--------+---------------+---------------+---------------+--------+\n",
      "|_c0|鄉鎮市區|交易標的|土地移轉總面積平方公尺|交易年月日|移轉層次|建物型態|建物現況格局-房|建物現況格局-廳|建物現況格局-衛|  總價元|\n",
      "+---+--------+--------+----------------------+----------+--------+--------+---------------+---------------+---------------+--------+\n",
      "|  1|       9|       1|                  4.07|   1050418|       5|       4|              1|              1|              1| 5750000|\n",
      "|  2|       9|       1|                  9.54|   1050327|       7|       0|              2|              2|              1|22600000|\n",
      "|  3|       9|       1|                 11.53|   1050331|       2|       4|              1|              0|              1| 6000000|\n",
      "|  4|       9|       2|                 52.84|   1050327|       9|       0|              3|              2|              2|29200000|\n",
      "|  5|       9|       1|                 15.69|   1050502|       3|       8|              3|              2|              2| 8000000|\n",
      "|  6|       9|       2|                 99.65|   1050411|       4|       8|              4|              2|              2|35000000|\n",
      "|  7|      11|       2|                  9.32|   1050419|       6|       8|              2|              2|              1|12700000|\n",
      "|  8|      11|       1|                 19.23|   1050314|       9|       0|              2|              1|              1|12200000|\n",
      "| 10|      11|       1|                 14.04|   1050408|       1|       4|              1|              1|              1| 7400000|\n",
      "| 11|       3|       1|                 41.79|   1050412|       5|       2|              3|              2|              2|17300000|\n",
      "| 12|       3|       2|                 15.33|   1050414|       3|       8|              1|              2|              1|11500000|\n",
      "| 13|       0|       1|                  2.13|   1050317|      12|       4|              1|              1|              1| 4000000|\n",
      "| 14|       3|       2|                 23.29|   1050221|       3|       8|              2|              2|              1|11120000|\n",
      "| 16|       3|       1|                  11.9|   1050401|       4|       8|              1|              1|              1| 5400000|\n",
      "| 17|       3|       1|                 15.93|   1050406|       5|       2|              3|              2|              1| 3000000|\n",
      "| 18|       3|       1|                  5.31|   1050406|       5|       2|              3|              2|              1| 1000000|\n",
      "| 19|       3|       1|                 20.56|   1050325|       1|       8|              2|              2|              1| 8500000|\n",
      "| 20|       2|       1|                  32.1|   1050412|       6|       8|              4|              2|              2|39410000|\n",
      "| 21|       5|       1|                 12.13|   1050405|       7|       4|              1|              1|              1|10500000|\n",
      "| 23|      10|       1|                   6.0|   1050313|      -1|       6|              0|              1|              1| 6500000|\n",
      "+---+--------+--------+----------------------+----------+--------+--------+---------------+---------------+---------------+--------+\n",
      "only showing top 20 rows\n",
      "\n"
     ]
    }
   ],
   "source": [
    "df = psdf.to_spark()\n",
    "df.show()"
   ]
  },
  {
   "cell_type": "code",
   "execution_count": 13,
   "id": "e9f49632-b808-412c-9b6c-e9b6dcb8c836",
   "metadata": {
    "tags": []
   },
   "outputs": [
    {
     "name": "stdout",
     "output_type": "stream",
     "text": [
      "+--------+--------+----------------------+----------+--------+--------+---------------+---------------+---------------+--------+\n",
      "|鄉鎮市區|交易標的|土地移轉總面積平方公尺|交易年月日|移轉層次|建物型態|建物現況格局-房|建物現況格局-廳|建物現況格局-衛|  總價元|\n",
      "+--------+--------+----------------------+----------+--------+--------+---------------+---------------+---------------+--------+\n",
      "|       9|       1|                  4.07|   1050418|       5|       4|              1|              1|              1| 5750000|\n",
      "|       9|       1|                  9.54|   1050327|       7|       0|              2|              2|              1|22600000|\n",
      "|       9|       1|                 11.53|   1050331|       2|       4|              1|              0|              1| 6000000|\n",
      "|       9|       2|                 52.84|   1050327|       9|       0|              3|              2|              2|29200000|\n",
      "|       9|       1|                 15.69|   1050502|       3|       8|              3|              2|              2| 8000000|\n",
      "|       9|       2|                 99.65|   1050411|       4|       8|              4|              2|              2|35000000|\n",
      "|      11|       2|                  9.32|   1050419|       6|       8|              2|              2|              1|12700000|\n",
      "|      11|       1|                 19.23|   1050314|       9|       0|              2|              1|              1|12200000|\n",
      "|      11|       1|                 14.04|   1050408|       1|       4|              1|              1|              1| 7400000|\n",
      "|       3|       1|                 41.79|   1050412|       5|       2|              3|              2|              2|17300000|\n",
      "|       3|       2|                 15.33|   1050414|       3|       8|              1|              2|              1|11500000|\n",
      "|       0|       1|                  2.13|   1050317|      12|       4|              1|              1|              1| 4000000|\n",
      "|       3|       2|                 23.29|   1050221|       3|       8|              2|              2|              1|11120000|\n",
      "|       3|       1|                  11.9|   1050401|       4|       8|              1|              1|              1| 5400000|\n",
      "|       3|       1|                 15.93|   1050406|       5|       2|              3|              2|              1| 3000000|\n",
      "|       3|       1|                  5.31|   1050406|       5|       2|              3|              2|              1| 1000000|\n",
      "|       3|       1|                 20.56|   1050325|       1|       8|              2|              2|              1| 8500000|\n",
      "|       2|       1|                  32.1|   1050412|       6|       8|              4|              2|              2|39410000|\n",
      "|       5|       1|                 12.13|   1050405|       7|       4|              1|              1|              1|10500000|\n",
      "|      10|       1|                   6.0|   1050313|      -1|       6|              0|              1|              1| 6500000|\n",
      "+--------+--------+----------------------+----------+--------+--------+---------------+---------------+---------------+--------+\n",
      "only showing top 20 rows\n",
      "\n"
     ]
    }
   ],
   "source": [
    "df = df.drop('_c0')\n",
    "df.show()"
   ]
  },
  {
   "cell_type": "markdown",
   "id": "541ec19c-c232-4c0c-b877-986cd594a312",
   "metadata": {},
   "source": [
    "### Select features"
   ]
  },
  {
   "cell_type": "code",
   "execution_count": 14,
   "id": "7c547150-bb45-4537-8ab1-f13946cf890d",
   "metadata": {},
   "outputs": [
    {
     "data": {
      "text/plain": [
       "['鄉鎮市區',\n",
       " '交易標的',\n",
       " '土地移轉總面積平方公尺',\n",
       " '交易年月日',\n",
       " '移轉層次',\n",
       " '建物型態',\n",
       " '建物現況格局-房',\n",
       " '建物現況格局-廳',\n",
       " '建物現況格局-衛',\n",
       " '總價元']"
      ]
     },
     "execution_count": 14,
     "metadata": {},
     "output_type": "execute_result"
    }
   ],
   "source": [
    "df.columns"
   ]
  },
  {
   "cell_type": "code",
   "execution_count": 15,
   "id": "265c67b5-e941-498c-90f2-af225f6f68b0",
   "metadata": {},
   "outputs": [],
   "source": [
    "feature_cols = df.columns[:-1]\n",
    "assembler = VectorAssembler(inputCols=feature_cols, outputCol='features')\n",
    "features_df = assembler.transform(df)"
   ]
  },
  {
   "cell_type": "code",
   "execution_count": 16,
   "id": "9bf0b22a-e931-4feb-aaec-f54beb42b4bd",
   "metadata": {},
   "outputs": [
    {
     "name": "stdout",
     "output_type": "stream",
     "text": [
      "root\n",
      " |-- 鄉鎮市區: integer (nullable = true)\n",
      " |-- 交易標的: integer (nullable = true)\n",
      " |-- 土地移轉總面積平方公尺: double (nullable = true)\n",
      " |-- 交易年月日: integer (nullable = true)\n",
      " |-- 移轉層次: integer (nullable = true)\n",
      " |-- 建物型態: integer (nullable = true)\n",
      " |-- 建物現況格局-房: integer (nullable = true)\n",
      " |-- 建物現況格局-廳: integer (nullable = true)\n",
      " |-- 建物現況格局-衛: integer (nullable = true)\n",
      " |-- 總價元: long (nullable = true)\n",
      " |-- features: vector (nullable = true)\n",
      "\n"
     ]
    }
   ],
   "source": [
    "# validate the presence of dense vectors \n",
    "features_df.printSchema()"
   ]
  },
  {
   "cell_type": "code",
   "execution_count": 17,
   "id": "cfc07008-ac2a-450b-b180-5164215bc516",
   "metadata": {},
   "outputs": [
    {
     "name": "stdout",
     "output_type": "stream",
     "text": [
      "+---------------------------------------------+\n",
      "|features                                     |\n",
      "+---------------------------------------------+\n",
      "|[9.0,1.0,4.07,1050418.0,5.0,4.0,1.0,1.0,1.0] |\n",
      "|[9.0,1.0,9.54,1050327.0,7.0,0.0,2.0,2.0,1.0] |\n",
      "|[9.0,1.0,11.53,1050331.0,2.0,4.0,1.0,0.0,1.0]|\n",
      "|[9.0,2.0,52.84,1050327.0,9.0,0.0,3.0,2.0,2.0]|\n",
      "|[9.0,1.0,15.69,1050502.0,3.0,8.0,3.0,2.0,2.0]|\n",
      "+---------------------------------------------+\n",
      "only showing top 5 rows\n",
      "\n"
     ]
    }
   ],
   "source": [
    "# view the details of dense vector\n",
    "features_df.select('features').show(5,False)"
   ]
  },
  {
   "cell_type": "code",
   "execution_count": 18,
   "id": "69e4e379-a60a-4b9b-a63e-26c35beb68c5",
   "metadata": {},
   "outputs": [],
   "source": [
    "# only select the features and label column\n",
    "model_df = features_df.select(['features', '總價元'])"
   ]
  },
  {
   "cell_type": "code",
   "execution_count": 19,
   "id": "3c6deb8b-4bbd-46a8-a00e-b08a4e519157",
   "metadata": {},
   "outputs": [
    {
     "name": "stdout",
     "output_type": "stream",
     "text": [
      "+----------------------------------------------+--------+\n",
      "|features                                      |總價元  |\n",
      "+----------------------------------------------+--------+\n",
      "|[9.0,1.0,4.07,1050418.0,5.0,4.0,1.0,1.0,1.0]  |5750000 |\n",
      "|[9.0,1.0,9.54,1050327.0,7.0,0.0,2.0,2.0,1.0]  |22600000|\n",
      "|[9.0,1.0,11.53,1050331.0,2.0,4.0,1.0,0.0,1.0] |6000000 |\n",
      "|[9.0,2.0,52.84,1050327.0,9.0,0.0,3.0,2.0,2.0] |29200000|\n",
      "|[9.0,1.0,15.69,1050502.0,3.0,8.0,3.0,2.0,2.0] |8000000 |\n",
      "|[9.0,2.0,99.65,1050411.0,4.0,8.0,4.0,2.0,2.0] |35000000|\n",
      "|[11.0,2.0,9.32,1050419.0,6.0,8.0,2.0,2.0,1.0] |12700000|\n",
      "|[11.0,1.0,19.23,1050314.0,9.0,0.0,2.0,1.0,1.0]|12200000|\n",
      "|[11.0,1.0,14.04,1050408.0,1.0,4.0,1.0,1.0,1.0]|7400000 |\n",
      "|[3.0,1.0,41.79,1050412.0,5.0,2.0,3.0,2.0,2.0] |17300000|\n",
      "+----------------------------------------------+--------+\n",
      "only showing top 10 rows\n",
      "\n"
     ]
    }
   ],
   "source": [
    "# Reading for machine learning\n",
    "model_df.show(10,False)"
   ]
  },
  {
   "cell_type": "code",
   "execution_count": 20,
   "id": "1f130483-1475-4cd4-ab42-d1c73a84fea9",
   "metadata": {},
   "outputs": [
    {
     "data": {
      "text/plain": [
       "(215447, 2)"
      ]
     },
     "execution_count": 20,
     "metadata": {},
     "output_type": "execute_result"
    }
   ],
   "source": [
    "# size of model df\n",
    "model_df.count(), len(model_df.columns)"
   ]
  },
  {
   "cell_type": "markdown",
   "id": "202fed98-29db-4358-9394-9d37fbbd007d",
   "metadata": {},
   "source": [
    "### Split Data - Train & Test sets"
   ]
  },
  {
   "cell_type": "code",
   "execution_count": 21,
   "id": "cb89cc22-f77a-4b69-906c-e453b81824c7",
   "metadata": {},
   "outputs": [],
   "source": [
    "# use Logistic Regression to train on the training set\n",
    "train_df, test_df = model_df.randomSplit([0.80, 0.20], seed=42)"
   ]
  },
  {
   "cell_type": "markdown",
   "id": "ac5f1fa1-5041-435e-ac47-97d6e04b1b89",
   "metadata": {},
   "source": [
    "### Build Linear Regression Model "
   ]
  },
  {
   "cell_type": "code",
   "execution_count": 22,
   "id": "cd532fae-f97d-46c5-a10b-214c8866258a",
   "metadata": {},
   "outputs": [
    {
     "data": {
      "text/plain": [
       "\u001b[0;31mInit signature:\u001b[0m \u001b[0mLinearRegression\u001b[0m\u001b[0;34m(\u001b[0m\u001b[0;34m*\u001b[0m\u001b[0margs\u001b[0m\u001b[0;34m,\u001b[0m \u001b[0;34m**\u001b[0m\u001b[0mkwds\u001b[0m\u001b[0;34m)\u001b[0m\u001b[0;34m\u001b[0m\u001b[0;34m\u001b[0m\u001b[0m\n",
       "\u001b[0;31mDocstring:\u001b[0m     \n",
       "Linear regression.\n",
       "\n",
       "The learning objective is to minimize the specified loss function, with regularization.\n",
       "This supports two kinds of loss:\n",
       "\n",
       "* squaredError (a.k.a squared loss)\n",
       "* huber (a hybrid of squared error for relatively small errors and absolute error for     relatively large ones, and we estimate the scale parameter from training data)\n",
       "\n",
       "This supports multiple types of regularization:\n",
       "\n",
       "* none (a.k.a. ordinary least squares)\n",
       "* L2 (ridge regression)\n",
       "* L1 (Lasso)\n",
       "* L2 + L1 (elastic net)\n",
       "\n",
       ".. versionadded:: 1.4.0\n",
       "\n",
       "Notes\n",
       "-----\n",
       "Fitting with huber loss only supports none and L2 regularization.\n",
       "\n",
       "Examples\n",
       "--------\n",
       ">>> from pyspark.ml.linalg import Vectors\n",
       ">>> df = spark.createDataFrame([\n",
       "...     (1.0, 2.0, Vectors.dense(1.0)),\n",
       "...     (0.0, 2.0, Vectors.sparse(1, [], []))], [\"label\", \"weight\", \"features\"])\n",
       ">>> lr = LinearRegression(regParam=0.0, solver=\"normal\", weightCol=\"weight\")\n",
       ">>> lr.setMaxIter(5)\n",
       "LinearRegression...\n",
       ">>> lr.getMaxIter()\n",
       "5\n",
       ">>> lr.setRegParam(0.1)\n",
       "LinearRegression...\n",
       ">>> lr.getRegParam()\n",
       "0.1\n",
       ">>> lr.setRegParam(0.0)\n",
       "LinearRegression...\n",
       ">>> model = lr.fit(df)\n",
       ">>> model.setFeaturesCol(\"features\")\n",
       "LinearRegressionModel...\n",
       ">>> model.setPredictionCol(\"newPrediction\")\n",
       "LinearRegressionModel...\n",
       ">>> model.getMaxIter()\n",
       "5\n",
       ">>> model.getMaxBlockSizeInMB()\n",
       "0.0\n",
       ">>> test0 = spark.createDataFrame([(Vectors.dense(-1.0),)], [\"features\"])\n",
       ">>> abs(model.predict(test0.head().features) - (-1.0)) < 0.001\n",
       "True\n",
       ">>> abs(model.transform(test0).head().newPrediction - (-1.0)) < 0.001\n",
       "True\n",
       ">>> abs(model.coefficients[0] - 1.0) < 0.001\n",
       "True\n",
       ">>> abs(model.intercept - 0.0) < 0.001\n",
       "True\n",
       ">>> test1 = spark.createDataFrame([(Vectors.sparse(1, [0], [1.0]),)], [\"features\"])\n",
       ">>> abs(model.transform(test1).head().newPrediction - 1.0) < 0.001\n",
       "True\n",
       ">>> lr.setParams(featuresCol=\"vector\")\n",
       "LinearRegression...\n",
       ">>> lr_path = temp_path + \"/lr\"\n",
       ">>> lr.save(lr_path)\n",
       ">>> lr2 = LinearRegression.load(lr_path)\n",
       ">>> lr2.getMaxIter()\n",
       "5\n",
       ">>> model_path = temp_path + \"/lr_model\"\n",
       ">>> model.save(model_path)\n",
       ">>> model2 = LinearRegressionModel.load(model_path)\n",
       ">>> model.coefficients[0] == model2.coefficients[0]\n",
       "True\n",
       ">>> model.intercept == model2.intercept\n",
       "True\n",
       ">>> model.transform(test0).take(1) == model2.transform(test0).take(1)\n",
       "True\n",
       ">>> model.numFeatures\n",
       "1\n",
       ">>> model.write().format(\"pmml\").save(model_path + \"_2\")\n",
       "\u001b[0;31mInit docstring:\u001b[0m __init__(self, \\*, featuresCol=\"features\", labelCol=\"label\", predictionCol=\"prediction\",                  maxIter=100, regParam=0.0, elasticNetParam=0.0, tol=1e-6, fitIntercept=True,                  standardization=True, solver=\"auto\", weightCol=None, aggregationDepth=2,                  loss=\"squaredError\", epsilon=1.35, maxBlockSizeInMB=0.0)\n",
       "\u001b[0;31mFile:\u001b[0m           /usr/local/lib/python3.8/dist-packages/pyspark/ml/regression.py\n",
       "\u001b[0;31mType:\u001b[0m           ABCMeta\n",
       "\u001b[0;31mSubclasses:\u001b[0m     \n"
      ]
     },
     "metadata": {},
     "output_type": "display_data"
    }
   ],
   "source": [
    "LinearRegression?"
   ]
  },
  {
   "cell_type": "code",
   "execution_count": 23,
   "id": "213cadb9-6e04-419e-ae8d-5e2d0268937b",
   "metadata": {},
   "outputs": [],
   "source": [
    "reg = 0.05"
   ]
  },
  {
   "cell_type": "code",
   "execution_count": 24,
   "id": "1da38389-9c0b-4487-ba93-9ba612610795",
   "metadata": {},
   "outputs": [],
   "source": [
    "# Build Linear Regression model \n",
    "lin_Reg=LinearRegression(labelCol='總價元', regParam=reg)"
   ]
  },
  {
   "cell_type": "code",
   "execution_count": 25,
   "id": "b0504175-56ad-4903-873f-f3f3eac85d4f",
   "metadata": {},
   "outputs": [
    {
     "name": "stderr",
     "output_type": "stream",
     "text": [
      "[Stage 9:>                                                          (0 + 2) / 2]\r"
     ]
    },
    {
     "name": "stdout",
     "output_type": "stream",
     "text": [
      "22/07/01 18:10:36 WARN InstanceBuilder$NativeBLAS: Failed to load implementation from:dev.ludovic.netlib.blas.JNIBLAS\n",
      "22/07/01 18:10:36 WARN InstanceBuilder$NativeBLAS: Failed to load implementation from:dev.ludovic.netlib.blas.ForeignLinkerBLAS\n"
     ]
    },
    {
     "name": "stderr",
     "output_type": "stream",
     "text": [
      "                                                                                \r"
     ]
    },
    {
     "name": "stdout",
     "output_type": "stream",
     "text": [
      "22/07/01 18:10:36 WARN InstanceBuilder$NativeLAPACK: Failed to load implementation from:dev.ludovic.netlib.lapack.JNILAPACK\n"
     ]
    },
    {
     "name": "stderr",
     "output_type": "stream",
     "text": [
      "                                                                                \r"
     ]
    }
   ],
   "source": [
    "# fit the linear regression model on training data set \n",
    "lr_model=lin_Reg.fit(train_df)"
   ]
  },
  {
   "cell_type": "code",
   "execution_count": 26,
   "id": "d5835bb8-60cf-4bf3-9b2d-30dd2ac8e052",
   "metadata": {},
   "outputs": [
    {
     "data": {
      "text/plain": [
       "-18646315.116238013"
      ]
     },
     "execution_count": 26,
     "metadata": {},
     "output_type": "execute_result"
    }
   ],
   "source": [
    "lr_model.intercept"
   ]
  },
  {
   "cell_type": "code",
   "execution_count": 27,
   "id": "fdda7cf0-f0b8-46c0-8981-a98f548ef179",
   "metadata": {},
   "outputs": [
    {
     "data": {
      "text/plain": [
       "DenseVector([-523311.1159, 13989923.8726, 562669.5402, 10.7753, 1588984.7497, -618515.2602, -697429.4822, -5738602.6814, 3165412.6782])"
      ]
     },
     "execution_count": 27,
     "metadata": {},
     "output_type": "execute_result"
    }
   ],
   "source": [
    "lr_model.coefficients"
   ]
  },
  {
   "cell_type": "code",
   "execution_count": 28,
   "id": "e8a18ebc-869c-495d-a1f7-359baac6ef6d",
   "metadata": {},
   "outputs": [
    {
     "name": "stderr",
     "output_type": "stream",
     "text": [
      "                                                                                \r"
     ]
    }
   ],
   "source": [
    "training_predictions=lr_model.evaluate(train_df)"
   ]
  },
  {
   "cell_type": "code",
   "execution_count": 29,
   "id": "ded0ed7a-6045-4d4f-96cb-a4829287ac71",
   "metadata": {},
   "outputs": [
    {
     "data": {
      "text/plain": [
       "3217561394613352.0"
      ]
     },
     "execution_count": 29,
     "metadata": {},
     "output_type": "execute_result"
    }
   ],
   "source": [
    "training_predictions.meanSquaredError"
   ]
  },
  {
   "cell_type": "code",
   "execution_count": 30,
   "id": "754eaa0b-2989-455e-aedc-4f5a097dcf50",
   "metadata": {},
   "outputs": [
    {
     "data": {
      "text/plain": [
       "0.4509578232694469"
      ]
     },
     "execution_count": 30,
     "metadata": {},
     "output_type": "execute_result"
    }
   ],
   "source": [
    "training_predictions.r2"
   ]
  },
  {
   "cell_type": "markdown",
   "id": "9ea4501a-6d4a-4ec4-8fb7-549274f8aa57",
   "metadata": {},
   "source": [
    "### Evaluate Model"
   ]
  },
  {
   "cell_type": "code",
   "execution_count": 31,
   "id": "de1b0dd4-4fc3-40dc-98e7-2ddf4b0f7eed",
   "metadata": {},
   "outputs": [
    {
     "name": "stderr",
     "output_type": "stream",
     "text": [
      "                                                                                \r"
     ]
    }
   ],
   "source": [
    "# make predictions on test data \n",
    "test_results = lr_model.evaluate(test_df)"
   ]
  },
  {
   "cell_type": "code",
   "execution_count": 32,
   "id": "41a34d7f-2c70-454f-b01b-d042574ad256",
   "metadata": {},
   "outputs": [
    {
     "name": "stdout",
     "output_type": "stream",
     "text": [
      "+--------------------+\n",
      "|residuals           |\n",
      "+--------------------+\n",
      "|1.2262323379963584E7|\n",
      "|6.348977440654529E7 |\n",
      "|9932297.709839758   |\n",
      "|-5731341.407355636  |\n",
      "|-1409326.1189673245 |\n",
      "|-5885775.398269951  |\n",
      "|1.3789892194402333E7|\n",
      "|446290.8342085257   |\n",
      "|9978119.694161944   |\n",
      "|9978119.694161944   |\n",
      "+--------------------+\n",
      "only showing top 10 rows\n",
      "\n"
     ]
    },
    {
     "name": "stderr",
     "output_type": "stream",
     "text": [
      "                                                                                \r"
     ]
    }
   ],
   "source": [
    "# view the residual errors based on predictions \n",
    "test_results.residuals.show(10,False)"
   ]
  },
  {
   "cell_type": "code",
   "execution_count": 33,
   "id": "9dc5f4a2-050d-4e49-8cb8-6777783b2589",
   "metadata": {},
   "outputs": [
    {
     "data": {
      "text/plain": [
       "0.12203767955346456"
      ]
     },
     "execution_count": 33,
     "metadata": {},
     "output_type": "execute_result"
    }
   ],
   "source": [
    "# coefficient of determination value for model\n",
    "test_results.r2"
   ]
  },
  {
   "cell_type": "code",
   "execution_count": 34,
   "id": "e16dcd33-4234-43f7-b73a-bd0cbff78779",
   "metadata": {},
   "outputs": [
    {
     "data": {
      "text/plain": [
       "43464067.17970187"
      ]
     },
     "execution_count": 34,
     "metadata": {},
     "output_type": "execute_result"
    }
   ],
   "source": [
    "# RMSE\n",
    "test_results.rootMeanSquaredError"
   ]
  },
  {
   "cell_type": "code",
   "execution_count": 35,
   "id": "ab8e2266-254a-4203-ac3b-f5273c92f14f",
   "metadata": {},
   "outputs": [
    {
     "data": {
      "text/plain": [
       "1889125135801637.8"
      ]
     },
     "execution_count": 35,
     "metadata": {},
     "output_type": "execute_result"
    }
   ],
   "source": [
    "# MSE\n",
    "test_results.meanSquaredError"
   ]
  },
  {
   "cell_type": "markdown",
   "id": "dc9bbf91-3b2f-4309-be1b-b5e9e9130757",
   "metadata": {},
   "source": [
    "### Load data"
   ]
  },
  {
   "cell_type": "code",
   "execution_count": null,
   "id": "2b1a42d5-5468-4dd4-8985-6f0c75f8959c",
   "metadata": {},
   "outputs": [],
   "source": [
    "# Load csv Dataset \n",
    "psdf_a = ps.read_csv('data/all_A_taipei_A.csv')\n",
    "psdf_b = ps.read_csv('data/all_A_taipei_B.csv')\n",
    "sdf_a = psdf_a.to_spark\n",
    "sdf_b = psdf_b.to_spark"
   ]
  },
  {
   "cell_type": "markdown",
   "id": "f241fdb0-a6d6-42d0-bb23-8f520f9f6f52",
   "metadata": {},
   "source": [
    "### Data processing"
   ]
  },
  {
   "cell_type": "code",
   "execution_count": null,
   "id": "d6356021-8ded-4452-b6b4-66fafc669ec9",
   "metadata": {},
   "outputs": [],
   "source": [
    "# combine two dataframe\n",
    "psdf_concat = ps.concat([psdf_a, psdf_b], join=\"inner\")\n",
    "psdf_concat.index += 1"
   ]
  },
  {
   "cell_type": "code",
   "execution_count": null,
   "id": "9401b6cd-b02b-4e47-a7e9-ba216546111b",
   "metadata": {},
   "outputs": [],
   "source": [
    "# select specific columns use fancy index\n",
    "psdf_fi = psdf_concat[[\"鄉鎮市區\", \"交易標的\", \"土地移轉總面積平方公尺\", \"交易年月日\", \"移轉層次\", \"建物型態\", \"建物現況格局-房\", \"建物現況格局-廳\", \"建物現況格局-衛\", \"總價元\"]]\n",
    "psdf_fi.show()"
   ]
  },
  {
   "cell_type": "markdown",
   "id": "0f281d60-5602-47eb-a3dd-0b89fdcac151",
   "metadata": {},
   "source": [
    "### Delete useless columns (garage & land)"
   ]
  },
  {
   "cell_type": "code",
   "execution_count": null,
   "id": "84c59733-265a-424f-98ce-b01963e0be7e",
   "metadata": {},
   "outputs": [],
   "source": []
  },
  {
   "cell_type": "code",
   "execution_count": null,
   "id": "f5ffc544-a984-4cbb-8bc0-9fcef5fbc6dc",
   "metadata": {},
   "outputs": [],
   "source": [
    "# delete garage and land rows\n",
    "\n",
    "psdf_fi.filter(psdf_fi[\"交易標的\"] == \"車位\").show(false)\n"
   ]
  },
  {
   "cell_type": "code",
   "execution_count": null,
   "id": "99560473-eb92-4742-9a7f-e4313ed7816d",
   "metadata": {},
   "outputs": [],
   "source": [
    "psdf_fi.drop(useless_columns)\n",
    "# psdf_main = psdf_fi.drop(useless_columns)\n",
    "# psdf_main"
   ]
  },
  {
   "cell_type": "code",
   "execution_count": null,
   "id": "ff7d0838-3668-4161-bf2b-f6f718ab883e",
   "metadata": {},
   "outputs": [],
   "source": [
    "df_main[\"移轉層次\"] == None\n",
    "df_main = df_main[df_main['移轉層次'].notna()]\n",
    "df_main"
   ]
  },
  {
   "cell_type": "code",
   "execution_count": null,
   "id": "6f6f5f2b-92c2-402e-9de7-db880478bc3e",
   "metadata": {},
   "outputs": [],
   "source": [
    "import numpy as np\n",
    "import pandas as pd\n",
    "from sklearn import datasets, linear_model\n",
    "from sklearn.metrics import mean_squared_error, r2_score\n",
    "from sklearn.model_selection import train_test_split\n",
    "from sklearn import preprocessing\n",
    "\n",
    "# load \n",
    "# df = pd.read_csv('./dataset/housing.csv', header = None, delim_whitespace=True)\n",
    "df = test_df\n",
    "# print(df)\n",
    "\n",
    "data_y = df[10]\n",
    "data_x = df.drop([10], axis = 1)\n",
    "# print(data_y)\n",
    "# print(data_x)\n",
    "\n",
    "# split\n",
    "data_X_train, data_X_test, data_y_train, data_y_test = train_test_split(data_x, data_y, test_size=0.1, random_state=1)\n",
    "\n",
    "# transform\n",
    "scaler = preprocessing.StandardScaler().fit(data_X_train)\n",
    "data_X_train = scaler.transform(data_X_train)\n",
    "\n",
    "# linear regression\n",
    "model = linear_model.LinearRegression()\n",
    "model.fit(data_X_train, data_y_train)\n",
    "          \n",
    "# make predictions\n",
    "data_X_test = scaler.transform(data_X_test)\n",
    "data_y_pred = model.predict(data_X_test)\n",
    "\n",
    "# The coefficients\n",
    "print('Coefficients: {}\\n'.format(model.coef_))\n",
    "# The mean squared error\n",
    "print(\"Mean squared error: {}\".format((mean_squared_error(data_y_test, data_y_pred))))\n",
    "# Explained variance score: 1 is perfect prediction\n",
    "print('R2 score: {}'.format(r2_score(data_y_test, data_y_pred)))     "
   ]
  }
 ],
 "metadata": {
  "kernelspec": {
   "display_name": "Python 3 (ipykernel)",
   "language": "python",
   "name": "python3"
  },
  "language_info": {
   "codemirror_mode": {
    "name": "ipython",
    "version": 3
   },
   "file_extension": ".py",
   "mimetype": "text/x-python",
   "name": "python",
   "nbconvert_exporter": "python",
   "pygments_lexer": "ipython3",
   "version": "3.8.10"
  }
 },
 "nbformat": 4,
 "nbformat_minor": 5
}
