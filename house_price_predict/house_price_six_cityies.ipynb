{
 "cells": [
  {
   "cell_type": "markdown",
   "id": "adfba8e6-31ca-4ce9-b286-8560e587958b",
   "metadata": {
    "tags": []
   },
   "source": [
    "## Import modules"
   ]
  },
  {
   "cell_type": "code",
   "execution_count": null,
   "id": "b6fe5228-429a-42d2-9779-dcdf6571d877",
   "metadata": {},
   "outputs": [],
   "source": [
    "import numpy as np\n",
    "import pandas as pd\n",
    "from sklearn import datasets, linear_model, preprocessing, neighbors\n",
    "from sklearn.metrics import mean_squared_error, r2_score\n",
    "from sklearn.model_selection import train_test_split\n",
    "from sklearn.metrics import accuracy_score, confusion_matrix\n",
    "from sklearn.tree import DecisionTreeClassifier\n",
    "import os, sys\n",
    "\n",
    "# import matplotlib.pyplot as plt"
   ]
  },
  {
   "cell_type": "markdown",
   "id": "9dec9faa-e221-4f36-94a8-c34cb89da6fb",
   "metadata": {},
   "source": [
    "## Load data "
   ]
  },
  {
   "cell_type": "code",
   "execution_count": null,
   "id": "e5d355c0-5b58-4991-9cfe-9563185fd5d6",
   "metadata": {},
   "outputs": [],
   "source": [
    "# set the path\n",
    "path = \"dataset/\"\n",
    "dirs = os.listdir(path)\n",
    "\n",
    "# load all city data & storage city code\n",
    "df_list = []\n",
    "city_codes = []\n",
    "for file in dirs:\n",
    "    df_city = pd.read_csv(path + file)\n",
    "    city_code = file[4]\n",
    "    df_list.append(df_city)\n",
    "    city_codes.append(city_code)"
   ]
  },
  {
   "cell_type": "markdown",
   "id": "f653ed00-52e9-4047-b7b5-216c9c2ef01c",
   "metadata": {},
   "source": [
    "## Data processing"
   ]
  },
  {
   "cell_type": "code",
   "execution_count": null,
   "id": "1a5fd330-c739-438c-a9fd-7c284b20bd91",
   "metadata": {
    "tags": []
   },
   "outputs": [],
   "source": [
    "# add column \"city code\" \n",
    "for df, code in zip(df_list, city_codes):\n",
    "    df[\"城市\"] = code"
   ]
  },
  {
   "cell_type": "code",
   "execution_count": null,
   "id": "e538c4ff-b80d-47d3-8f22-c49617ff6d6f",
   "metadata": {},
   "outputs": [],
   "source": [
    "# concat all dataframes\n",
    "df = pd.concat(df_list, join=\"inner\")\n",
    "df.index += 1"
   ]
  },
  {
   "cell_type": "code",
   "execution_count": null,
   "id": "995604b2-e24d-4c28-95e4-97966cc55f73",
   "metadata": {},
   "outputs": [],
   "source": [
    "df = df[[\"城市\", \"鄉鎮市區\", \"交易標的\", \"土地移轉總面積平方公尺\", \"交易年月日\", \"移轉層次\", \"建物型態\", \"建物現況格局-房\", \"建物現況格局-廳\", \"建物現況格局-衛\", \"總價元\"]]\n",
    "df"
   ]
  },
  {
   "cell_type": "markdown",
   "id": "a72c7874-f10f-439d-ab55-e86e3032aa55",
   "metadata": {},
   "source": [
    "### Delete useless columns (garage & land)"
   ]
  },
  {
   "cell_type": "code",
   "execution_count": null,
   "id": "2548296a-a438-42a5-9e48-6b90502b2bb4",
   "metadata": {},
   "outputs": [],
   "source": [
    "# only query important columns\n",
    "df = df.loc[~df[\"交易標的\"].isin([\"車位\",\"土地\"]) & df['移轉層次'].notna()]\n",
    "\n",
    "# select column without garage and land\n",
    "# ~df[\"交易標的\"].isin([\"車位\",\"土地\"])\n",
    "# without NaN\n",
    "# df['移轉層次'].notna()"
   ]
  },
  {
   "cell_type": "markdown",
   "id": "a6e4ecb2-0f08-409c-bf53-9779eb349b01",
   "metadata": {},
   "source": [
    "## Categorical features"
   ]
  },
  {
   "cell_type": "code",
   "execution_count": null,
   "id": "35376728-972b-4df5-a829-b5247e98ceb6",
   "metadata": {},
   "outputs": [],
   "source": [
    "# types of columns\n",
    "df.dtypes"
   ]
  },
  {
   "cell_type": "markdown",
   "id": "fd81ef04-5791-4f42-be25-adcbcf6a288c",
   "metadata": {},
   "source": [
    "### Finding Unique Values"
   ]
  },
  {
   "cell_type": "code",
   "execution_count": null,
   "id": "852a7b58-d97e-4dac-95b5-6bcd87a96150",
   "metadata": {},
   "outputs": [],
   "source": [
    "# Checking Categorical columns\n",
    "cat = df.select_dtypes(include='O').keys()\n",
    "cat"
   ]
  },
  {
   "cell_type": "code",
   "execution_count": null,
   "id": "4e7d73f8-f197-4ebe-b8ce-d7b4c75f6398",
   "metadata": {},
   "outputs": [],
   "source": [
    "o_type_columns = df[['城市', '鄉鎮市區', '交易標的', '建物型態', '移轉層次']]\n",
    "o_type_columns.count()"
   ]
  },
  {
   "cell_type": "code",
   "execution_count": null,
   "id": "0e80ada1-828d-4b90-a324-08ca3dddca87",
   "metadata": {},
   "outputs": [],
   "source": [
    "# unique values in each columns\n",
    "for i in o_type_columns.columns:\n",
    "    #prinfting unique values\n",
    "    print(i ,':', len(o_type_columns[i].unique()))"
   ]
  },
  {
   "cell_type": "markdown",
   "id": "541213cb-a805-4afd-89fc-d3e4f25c29ed",
   "metadata": {},
   "source": [
    "### Delete useless floor"
   ]
  },
  {
   "cell_type": "code",
   "execution_count": null,
   "id": "9fcb6e4c-0f4e-4b24-bac8-f486b0f09204",
   "metadata": {},
   "outputs": [],
   "source": [
    "# delete useless floor\n",
    "useless_floor = df[df[\"移轉層次\"].str.len() > 6].index\n",
    "df = df.drop(useless_floor)\n",
    "df"
   ]
  },
  {
   "cell_type": "code",
   "execution_count": null,
   "id": "5df27256-8284-4661-bdfb-e66b70ae9809",
   "metadata": {},
   "outputs": [],
   "source": [
    "# modify floor value\n",
    "df[\"移轉層次\"] = df[\"移轉層次\"].str[:2]\n",
    "\n",
    "# select count value > 1000\n",
    "df = df.groupby(\"移轉層次\").filter(lambda grp: len(grp) > 1000)\n",
    "# floor_counts = df_test.groupby(\"移轉層次\")[\"移轉層次\"].transform(len)\n",
    "# mas = floor_counts < 1000\n",
    "\n",
    "print(df[\"移轉層次\"].value_counts().head())\n",
    "df"
   ]
  },
  {
   "cell_type": "markdown",
   "id": "f5dd8323-0e31-48c6-8828-783af3ca9a20",
   "metadata": {},
   "source": [
    "### Checking Unique Values"
   ]
  },
  {
   "cell_type": "code",
   "execution_count": null,
   "id": "e4ef176b-ce8c-4881-bfab-88aab545b423",
   "metadata": {},
   "outputs": [],
   "source": [
    "o_type_columns = df[['城市', '鄉鎮市區', '交易標的', '建物型態', '移轉層次']]\n",
    "o_type_columns.count()"
   ]
  },
  {
   "cell_type": "code",
   "execution_count": null,
   "id": "226b0eec-94d9-4ef0-9821-6573392bbdfc",
   "metadata": {},
   "outputs": [],
   "source": [
    "# unique values in each columns\n",
    "for i in o_type_columns.columns:\n",
    "    #prinfting unique values\n",
    "    print(i ,':', len(o_type_columns[i].unique()))"
   ]
  },
  {
   "cell_type": "code",
   "execution_count": null,
   "id": "78643e30-5338-43b3-a967-edb23b6ae3ae",
   "metadata": {},
   "outputs": [],
   "source": [
    "df[\"移轉層次\"].value_counts().sort_values(ascending=False)"
   ]
  },
  {
   "cell_type": "code",
   "execution_count": null,
   "id": "58c8736d-5370-4cd8-bbd7-eefb8c6e5dd3",
   "metadata": {
    "tags": []
   },
   "outputs": [],
   "source": [
    "pd.Categorical?"
   ]
  },
  {
   "cell_type": "markdown",
   "id": "092720b3-8e37-4cad-9e87-e169c76511fd",
   "metadata": {
    "tags": []
   },
   "source": [
    "### Categorical encoding"
   ]
  },
  {
   "cell_type": "code",
   "execution_count": null,
   "id": "486d4933-95b5-47a8-9422-27871bbc3eaf",
   "metadata": {},
   "outputs": [],
   "source": [
    "new_floor = {\"移轉層次\": \n",
    "             {\"地下\": -1, \n",
    "              \"全\" : 0,\n",
    "              \"一層\" : 1, \n",
    "              \"二層\" : 2, \n",
    "              \"三層\" : 3, \n",
    "              \"四層\" : 4, \n",
    "              \"五層\" : 5, \n",
    "              \"六層\" : 6, \n",
    "              \"七層\" : 7, \n",
    "              \"八層\" : 8, \n",
    "              \"九層\" : 9, \n",
    "              \"十層\" : 10, \n",
    "              \"十一\" : 11, \n",
    "              \"十二\" : 12, \n",
    "              \"十三\" : 13, \n",
    "              \"十四\" : 14, \n",
    "              \"十五\" : 15, \n",
    "              \"十六\" : 16, \n",
    "              \"十七\" : 17, \n",
    "              \"十八\" : 18, \n",
    "              \"十九\" : 19, \n",
    "              \"二十\" : 20,\n",
    "              \"三十\" : 30\n",
    "             }\n",
    "            }"
   ]
  },
  {
   "cell_type": "code",
   "execution_count": null,
   "id": "67dd7a3b-4dbc-4c13-809e-c7fdd55ab5c9",
   "metadata": {},
   "outputs": [],
   "source": [
    "# transform categorical features\n",
    "new_df = df\n",
    "new_df[\"城市\"] = pd.Categorical(new_df[\"城市\"]).codes\n",
    "new_df[\"鄉鎮市區\"] = pd.Categorical(new_df[\"鄉鎮市區\"]).codes\n",
    "new_df[\"交易標的\"] = pd.Categorical(new_df[\"交易標的\"]).codes\n",
    "new_df[\"建物型態\"] = pd.Categorical(new_df[\"建物型態\"]).codes\n",
    "new_df = new_df.replace(new_floor)\n",
    "new_df"
   ]
  },
  {
   "cell_type": "markdown",
   "id": "583527d2-616d-4404-b395-e9f2ca09e717",
   "metadata": {},
   "source": [
    "## Supervised learning"
   ]
  },
  {
   "cell_type": "code",
   "execution_count": null,
   "id": "81ae4dd5-7db5-423d-a271-c551ee54b14b",
   "metadata": {},
   "outputs": [],
   "source": [
    "new_df.columns"
   ]
  },
  {
   "cell_type": "code",
   "execution_count": null,
   "id": "fb93a9ec-6e21-4657-aa43-05f3d1f4deae",
   "metadata": {},
   "outputs": [],
   "source": [
    "# load csv file\n",
    "df = new_df\n",
    "# df[0] = pd.Categorical(df[0]).codes\n",
    "# df[8] = df[8].apply(lambda x: 0 if x> 8 else 1)\n",
    "\n",
    "\n",
    "X = new_df.drop(['總價元'], axis=1)\n",
    "y = df[\"總價元\"]"
   ]
  },
  {
   "cell_type": "markdown",
   "id": "16f4f24f-49bb-4b43-9354-509fd0843ccb",
   "metadata": {
    "tags": []
   },
   "source": [
    "### Linear Regression"
   ]
  },
  {
   "cell_type": "code",
   "execution_count": null,
   "id": "85c7466e-097a-4f88-a2db-7a048de5c5a8",
   "metadata": {},
   "outputs": [],
   "source": [
    "# split\n",
    "data_X_train, data_X_test, data_y_train, data_y_test = train_test_split(X, y, test_size=0.1, random_state=1)\n",
    "\n",
    "# transform\n",
    "scaler = preprocessing.StandardScaler().fit(data_X_train)\n",
    "data_X_train = scaler.transform(data_X_train)\n",
    "\n",
    "# linear regression\n",
    "model = linear_model.LinearRegression()\n",
    "model.fit(data_X_train, data_y_train)\n",
    "          \n",
    "# make predictions\n",
    "data_X_test = scaler.transform(data_X_test)\n",
    "data_y_pred = model.predict(data_X_test)\n",
    "\n",
    "# The coefficients\n",
    "print('Coefficients: {}\\n'.format(model.coef_))\n",
    "# The mean squared error\n",
    "print(\"Mean squared error: {}\".format((mean_squared_error(data_y_test, data_y_pred))))\n",
    "# Explained variance score: 1 is perfect prediction\n",
    "print('R2 score: {}'.format(r2_score(data_y_test, data_y_pred)))     "
   ]
  },
  {
   "cell_type": "markdown",
   "id": "73d66862-3ec0-4285-91b8-34738063c9b5",
   "metadata": {},
   "source": [
    "### Decision Tree"
   ]
  },
  {
   "cell_type": "code",
   "execution_count": null,
   "id": "12ed0cf4-b708-4dd2-821e-530144ca09b4",
   "metadata": {},
   "outputs": [],
   "source": [
    "# kernel will die\n",
    "X_train, X_test, y_train, y_test = train_test_split(X, y, test_size=0.2)\n",
    "\n",
    "scaler = preprocessing.StandardScaler().fit(X_train)\n",
    "X_train = scaler.transform(X_train)\n",
    "\n",
    "model = DecisionTreeClassifier()\n",
    "model.fit(X_train, y_train)\n",
    "\n",
    "X_test = scaler.transform(X_test)\n",
    "y_pred = model.predict(X_test)\n",
    "\n",
    "\n",
    "accuracy = accuracy_score(y_test, y_pred)\n",
    "num_correct_samples = accuracy_score(y_test, y_pred, normalize=False)\n",
    "con_matrix = confusion_matrix(y_test, y_pred)\n",
    "\n",
    "print('number of correct sample: {}'.format(num_correct_samples))\n",
    "print('accuracy: {}'.format(accuracy))\n",
    "print('con_matrix: {}'.format(con_matrix))"
   ]
  }
 ],
 "metadata": {
  "kernelspec": {
   "display_name": "Python 3 (ipykernel)",
   "language": "python",
   "name": "python3"
  },
  "language_info": {
   "codemirror_mode": {
    "name": "ipython",
    "version": 3
   },
   "file_extension": ".py",
   "mimetype": "text/x-python",
   "name": "python",
   "nbconvert_exporter": "python",
   "pygments_lexer": "ipython3",
   "version": "3.9.11"
  }
 },
 "nbformat": 4,
 "nbformat_minor": 5
}
