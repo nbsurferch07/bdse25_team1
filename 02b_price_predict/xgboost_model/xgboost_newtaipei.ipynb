{
 "cells": [
  {
   "cell_type": "code",
   "execution_count": null,
   "id": "3d624080-0684-4b8c-b50f-205c0ba18e5c",
   "metadata": {
    "tags": []
   },
   "outputs": [],
   "source": [
    "import numpy as np\n",
    "import pandas as pd\n",
    "import sys\n",
    "import matplotlib.pyplot as plt\n",
    "import seaborn as sns\n",
    "import graphviz \n",
    "import os\n",
    "import pickle\n",
    "from matplotlib.font_manager import FontProperties\n",
    "sns.set(font=['sans-serif'])\n",
    "sns.set_style(\"whitegrid\",{\"font.sans-serif\":['Microsoft JhengHei']})\n",
    "# scikit-learn\n",
    "from sklearn.preprocessing import OneHotEncoder, StandardScaler, PowerTransformer, RobustScaler\n",
    "from sklearn import datasets, linear_model, preprocessing, neighbors\n",
    "from sklearn.linear_model import LinearRegression\n",
    "from sklearn.metrics import accuracy_score, confusion_matrix,mean_absolute_error,mean_squared_error, r2_score\n",
    "from sklearn.model_selection import train_test_split,cross_val_score,GridSearchCV,KFold,RandomizedSearchCV\n",
    "from sklearn import tree\n",
    "from sklearn.tree import DecisionTreeClassifier\n",
    "from sklearn.ensemble import RandomForestClassifier, RandomForestRegressor\n",
    "from sklearn.svm import SVC\n",
    "from sklearn.compose import make_column_selector as selector\n",
    "from sklearn.compose import ColumnTransformer\n",
    "import xgboost as xgb"
   ]
  },
  {
   "cell_type": "code",
   "execution_count": null,
   "id": "a32df324-738c-47af-b236-f61e750a7f34",
   "metadata": {},
   "outputs": [],
   "source": [
    "df_oh = pd.read_csv('../新北市_predictset_onehot.csv', engine='python',index_col=[0])\n",
    "df_oh"
   ]
  },
  {
   "cell_type": "code",
   "execution_count": null,
   "id": "a4641eaa-f8b7-46fe-b49d-a2942ff69b52",
   "metadata": {},
   "outputs": [],
   "source": [
    "import seaborn as sns\n",
    "from matplotlib.font_manager import FontProperties\n",
    "sns.set(font=['sans-serif'])\n",
    "sns.set_style(\"whitegrid\",{\"font.sans-serif\":['Microsoft JhengHei']})\n",
    "\n",
    "plt.figure(figsize=(10,8))\n",
    "sns.heatmap(df_oh.iloc[:,0:10].corr(),annot=True)"
   ]
  },
  {
   "cell_type": "markdown",
   "id": "351fe999-40b6-4dcb-9b32-44f721b2eccd",
   "metadata": {
    "tags": []
   },
   "source": [
    "## XGBRegressor"
   ]
  },
  {
   "cell_type": "code",
   "execution_count": null,
   "id": "1fa0af47-963e-46cb-ac61-747181d8c29a",
   "metadata": {
    "tags": []
   },
   "outputs": [],
   "source": [
    "X=df_oh.drop(columns=['每坪價格','車位'])\n",
    "y=df_oh['每坪價格']"
   ]
  },
  {
   "cell_type": "code",
   "execution_count": null,
   "id": "0fdd771a-451a-418f-9505-6140d2d30167",
   "metadata": {},
   "outputs": [],
   "source": [
    "# 調參前\n",
    "X_train, X_test, y_train, y_test = train_test_split(X, y, test_size=0.3)\n",
    "\n",
    "# 建立 XGBRegressor 模型\n",
    "xgbr=xgb.XGBRegressor(tree_method=\"gpu_hist\")\n",
    "# xgbr=xgb.XGBClassifier(tree_method=\"auto\",enable_categorical=True)\n",
    "# 使用訓練資料訓練模型\n",
    "xgbr.fit(X_train,y_train)\n",
    "\n",
    "y_train_pred = xgbr.predict(X_train)\n",
    "y_test_pred = xgbr.predict(X_test)"
   ]
  },
  {
   "cell_type": "code",
   "execution_count": null,
   "id": "ecbbdddc-0432-4331-b5ff-649b9762994e",
   "metadata": {},
   "outputs": [],
   "source": [
    "print(f'訓練集RMSE: {(mean_squared_error(y_train, y_train_pred,squared=False)):.3f},測試集: {(mean_squared_error(y_test, y_test_pred,squared=False)):.3f}')\n",
    "print(f'訓練集MAE: {(mean_absolute_error(y_train, y_train_pred)):.3f},測試集: {(mean_absolute_error(y_test, y_test_pred)):.3f}')\n",
    "print(f'訓練集R2: {(r2_score(y_train, y_train_pred)):.3f},測試集: {(r2_score(y_test, y_test_pred)):.3f}')"
   ]
  },
  {
   "cell_type": "code",
   "execution_count": null,
   "id": "a6695084-46c5-4c23-99b8-37abfe07820c",
   "metadata": {},
   "outputs": [],
   "source": [
    "importance=xgbr.feature_importances_\n",
    "importance"
   ]
  },
  {
   "cell_type": "code",
   "execution_count": null,
   "id": "020d367e-4041-4e89-ba14-83126f6d799d",
   "metadata": {
    "tags": []
   },
   "outputs": [],
   "source": [
    "X_del=pd.DataFrame({'importance':xgbr.feature_importances_,'features':X.columns}).sort_values(by=['importance'],ascending=False)\n",
    "mask_selected=X_del.iloc[0:20].features\n",
    "X_selected=X_train[list(mask_selected)]\n",
    "X_selected"
   ]
  },
  {
   "cell_type": "code",
   "execution_count": null,
   "id": "fe22b8ad-1926-4ab8-bab6-26df8991960a",
   "metadata": {},
   "outputs": [],
   "source": [
    "os.environ[\"PATH\"] += os.pathsep + '../../pylab-Roger/BDSE_機器學習/實作/hands-on_part5/example/release/bin'\n",
    "# Get a graph\n",
    "graph = xgb.to_graphviz(xgbr, num_trees=1)\n",
    "# Or get a matplotlib axis\n",
    "ax = xgb.plot_tree(xgbr, num_trees=1)\n",
    "# Get feature importances\n",
    "xgbr.feature_importances_"
   ]
  },
  {
   "cell_type": "code",
   "execution_count": null,
   "id": "3f1c990d-7007-4687-a21a-0a442c14e944",
   "metadata": {
    "tags": []
   },
   "outputs": [],
   "source": [
    "# grid 調參\n",
    "\n",
    "params = {'learning_rate': [0.01, 0.1],\n",
    "        'max_depth': [3, 5, 7, 10],\n",
    "        'min_child_weight': [1, 3, 5],\n",
    "        'subsample': [0.5, 0.7],\n",
    "        'colsample_bytree': [0.5, 0.7],\n",
    "        'n_estimators' : [100, 200, 500],\n",
    "        'objective': ['reg:squarederror']\n",
    "              }\n",
    "\n",
    "xgbclf = xgb.XGBRegressor(tree_method='gpu_hist',enable_categorical=True)\n",
    "clf = RandomizedSearchCV(estimator=xgbclf,\n",
    "                         param_distributions=params,\n",
    "                         n_iter=10,\n",
    "                         n_jobs=-1,\n",
    "                         cv=3,\n",
    "                         verbose=1)\n",
    "\n",
    "clf.fit(X_train, y_train)\n",
    "\n",
    "print(clf.best_params_,clf.best_score_)"
   ]
  },
  {
   "cell_type": "code",
   "execution_count": null,
   "id": "21b167c9-d898-43f3-88c1-0b3629d8e2b1",
   "metadata": {
    "tags": []
   },
   "outputs": [],
   "source": [
    "# 調參後\n",
    "xgbr=xgb.XGBRegressor(tree_method=\"gpu_hist\",enable_categorical=True,n_jobs=-1,\n",
    "                      colsample_bytree=0.5,\n",
    "                      min_child_weight=5,\n",
    "                      subsample=0.7,\n",
    "                      max_depth=11,\n",
    "                      n_estimators=500,\n",
    "                      learning_rate=0.03)\n",
    "# 使用訓練資料訓練模型\n",
    "xgbr.fit(X_train,y_train)\n",
    "\n",
    "# X_test = scaler.transform(X_test)\n",
    "y_train_pred = xgbr.predict(X_train)\n",
    "y_test_pred = xgbr.predict(X_test)"
   ]
  },
  {
   "cell_type": "code",
   "execution_count": null,
   "id": "b5c83f79-823b-453a-a71e-ac3d87a312f3",
   "metadata": {},
   "outputs": [],
   "source": [
    "print(f'訓練集RMSE: {(mean_squared_error(y_train, y_train_pred,squared=False)):.3f},測試集: {(mean_squared_error(y_test, y_test_pred,squared=False)):.3f}')\n",
    "print(f'訓練集MAE: {(mean_absolute_error(y_train, y_train_pred)):.3f},測試集: {(mean_absolute_error(y_test, y_test_pred)):.3f}')\n",
    "print(f'訓練集R2: {(r2_score(y_train, y_train_pred)):.3f},測試集: {(r2_score(y_test, y_test_pred)):.3f}')"
   ]
  },
  {
   "cell_type": "code",
   "execution_count": null,
   "id": "0300f742-5e53-41e7-a8d7-c607b8cc253b",
   "metadata": {},
   "outputs": [],
   "source": [
    "kf =KFold(n_splits=5, shuffle=True, random_state=42)\n",
    "sc=cross_val_score(model,X, y, cv= kf)"
   ]
  },
  {
   "cell_type": "code",
   "execution_count": null,
   "id": "51c7d145-d2f2-45a7-aa0e-44f5cb9a6650",
   "metadata": {},
   "outputs": [],
   "source": [
    "sc.mean()"
   ]
  },
  {
   "cell_type": "code",
   "execution_count": null,
   "id": "ca282def-79d4-4041-be29-b5d9f18a79a9",
   "metadata": {},
   "outputs": [],
   "source": [
    "# Saving model\n",
    "with open(\"model_XGBR_newtaipei.pickle\",\"wb\") as f:\n",
    "    pickle.dump(xgbr, f, protocol=pickle.HIGHEST_PROTOCOL)"
   ]
  },
  {
   "cell_type": "code",
   "execution_count": null,
   "id": "cf9ba848-eaa6-4ab5-9a1b-357acb6854e0",
   "metadata": {},
   "outputs": [],
   "source": []
  }
 ],
 "metadata": {
  "kernelspec": {
   "display_name": "Python 3 (ipykernel)",
   "language": "python",
   "name": "python3"
  },
  "language_info": {
   "codemirror_mode": {
    "name": "ipython",
    "version": 3
   },
   "file_extension": ".py",
   "mimetype": "text/x-python",
   "name": "python",
   "nbconvert_exporter": "python",
   "pygments_lexer": "ipython3",
   "version": "3.9.7"
  }
 },
 "nbformat": 4,
 "nbformat_minor": 5
}
