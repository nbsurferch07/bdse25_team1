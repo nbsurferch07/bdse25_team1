{
 "cells": [
  {
   "cell_type": "markdown",
   "id": "8bd815f8-8233-4ad6-8639-875ef1fd097b",
   "metadata": {},
   "source": [
    "# House price predict"
   ]
  },
  {
   "cell_type": "markdown",
   "id": "c41fb337-0753-4c53-a9ca-af8fd4443245",
   "metadata": {
    "tags": []
   },
   "source": [
    "### Import pyspark module"
   ]
  },
  {
   "cell_type": "code",
   "execution_count": null,
   "id": "63c64e6a-3ff8-4384-923e-fbc4019b43bb",
   "metadata": {},
   "outputs": [],
   "source": [
    "import numpy as np\n",
    "import pandas as pd\n",
    "import pyspark\n",
    "import sys"
   ]
  },
  {
   "cell_type": "code",
   "execution_count": 1,
   "id": "8fe8c880-c504-458f-af3d-b3fd076688f6",
   "metadata": {},
   "outputs": [],
   "source": [
    "# import SparkSession, 有 pip3 install pyspark\n",
    "from pyspark.sql import SparkSession\n",
    "import pyspark.sql.functions as fn\n",
    "from pyspark.sql.functions import *\n",
    "from pyspark.sql.types import StringType, DoubleType, IntegerType"
   ]
  },
  {
   "cell_type": "code",
   "execution_count": 2,
   "id": "75ab85a8-d0f9-4b00-9032-f7770afc2aae",
   "metadata": {},
   "outputs": [],
   "source": [
    "import pyspark.pandas as ps"
   ]
  },
  {
   "cell_type": "code",
   "execution_count": 3,
   "id": "f841bcc3-2067-4265-af99-97fca873fe91",
   "metadata": {},
   "outputs": [],
   "source": [
    "# spark ml module\n",
    "from pyspark.ml.regression import LinearRegression\n",
    "from pyspark.ml.linalg import Vector\n",
    "from pyspark.ml.feature import VectorAssembler, StringIndexer, OneHotEncoder"
   ]
  },
  {
   "cell_type": "code",
   "execution_count": null,
   "id": "3d776a4c-8c95-4e77-9e6b-c026a85552c5",
   "metadata": {},
   "outputs": [],
   "source": [
    "from pyspark.mllib.classification import SVMWithSGD, SVMModel\n",
    "from pyspark.mllib.regression import LabeledPoint"
   ]
  },
  {
   "cell_type": "markdown",
   "id": "0135eb84-e555-44b8-b39e-2d3a21f165a1",
   "metadata": {
    "tags": []
   },
   "source": [
    "### Set spark session"
   ]
  },
  {
   "cell_type": "code",
   "execution_count": 4,
   "id": "a06147df-660b-49ee-8ef5-4f3811235fe3",
   "metadata": {},
   "outputs": [
    {
     "name": "stderr",
     "output_type": "stream",
     "text": [
      "Setting default log level to \"WARN\".\n",
      "To adjust logging level use sc.setLogLevel(newLevel). For SparkR, use setLogLevel(newLevel).\n"
     ]
    },
    {
     "name": "stdout",
     "output_type": "stream",
     "text": [
      "22/07/15 16:23:37 WARN NativeCodeLoader: Unable to load native-hadoop library for your platform... using builtin-java classes where applicable\n"
     ]
    }
   ],
   "source": [
    "# Local mode\n",
    "spark = SparkSession\\\n",
    "        .builder\\\n",
    "        .appName(\"price_predict\")\\\n",
    "        .getOrCreate()"
   ]
  },
  {
   "cell_type": "code",
   "execution_count": 5,
   "id": "6792f554-e1f2-4717-b481-a3bce89b81d1",
   "metadata": {},
   "outputs": [
    {
     "data": {
      "text/plain": [
       "'price_predict'"
      ]
     },
     "execution_count": 5,
     "metadata": {},
     "output_type": "execute_result"
    }
   ],
   "source": [
    "# Check spark app name\n",
    "spark.sparkContext.appName"
   ]
  },
  {
   "cell_type": "code",
   "execution_count": 6,
   "id": "523c5a0c-09de-4086-8eb9-397e2890a62a",
   "metadata": {},
   "outputs": [],
   "source": [
    "spark.conf.set(\"spark.sql.execution.arrow.pyspark.enabled\", True)"
   ]
  },
  {
   "cell_type": "code",
   "execution_count": 7,
   "id": "016cd525-1de3-4c80-9d50-d91b6ef26085",
   "metadata": {},
   "outputs": [],
   "source": [
    "ps.set_option(\"compute.default_index_type\", \"distributed\")"
   ]
  },
  {
   "cell_type": "code",
   "execution_count": null,
   "id": "48f8199f-7e87-4299-ac2f-636edce0f016",
   "metadata": {},
   "outputs": [],
   "source": [
    "# Spark version\n",
    "spark.version"
   ]
  },
  {
   "cell_type": "code",
   "execution_count": null,
   "id": "a0912a3f-0a71-42e8-8fb4-d969505ec892",
   "metadata": {},
   "outputs": [],
   "source": [
    "spark"
   ]
  },
  {
   "cell_type": "markdown",
   "id": "ca509d42-c4fc-4887-8e7f-7dc63b1bd376",
   "metadata": {},
   "source": [
    "## Feature Engineering"
   ]
  },
  {
   "cell_type": "markdown",
   "id": "2b90f7d5-3dcb-4584-a315-2926f67fa43d",
   "metadata": {
    "tags": []
   },
   "source": [
    "### Load data"
   ]
  },
  {
   "cell_type": "code",
   "execution_count": null,
   "id": "36c91143-2385-4dea-82c7-e210f4d1df39",
   "metadata": {},
   "outputs": [],
   "source": [
    "# df = df.to_spark()"
   ]
  },
  {
   "cell_type": "code",
   "execution_count": 9,
   "id": "b5189cf3-b24a-435b-bb05-b8f0e5fdef01",
   "metadata": {},
   "outputs": [
    {
     "name": "stderr",
     "output_type": "stream",
     "text": [
      "[Stage 1:==========================>                                (4 + 4) / 9]\r"
     ]
    },
    {
     "name": "stdout",
     "output_type": "stream",
     "text": [
      "22/07/15 16:24:27 WARN package: Truncated the string representation of a plan since it was too large. This behavior can be adjusted by setting 'spark.sql.debug.maxToStringFields'.\n"
     ]
    },
    {
     "name": "stderr",
     "output_type": "stream",
     "text": [
      "                                                                                \r"
     ]
    }
   ],
   "source": [
    "df = spark.read.csv('file:///home/dtsurfer07/00_final_project_tutorial/dataset/all_combined_AB.csv', inferSchema=True, header=True)\n",
    "df.createOrReplaceTempView(\"dfTable\")"
   ]
  },
  {
   "cell_type": "code",
   "execution_count": null,
   "id": "c8507302-b64f-46d0-8b81-dabe38f55fc9",
   "metadata": {},
   "outputs": [],
   "source": [
    "df.show(5)"
   ]
  },
  {
   "cell_type": "markdown",
   "id": "db878afc-b90f-42b0-8889-1faca9c2a6a8",
   "metadata": {},
   "source": [
    "### Inspect data"
   ]
  },
  {
   "cell_type": "code",
   "execution_count": null,
   "id": "9c63a453-78e4-415c-90f5-09cffc8678df",
   "metadata": {},
   "outputs": [],
   "source": [
    "df.columns"
   ]
  },
  {
   "cell_type": "code",
   "execution_count": null,
   "id": "d1246f52-0a46-414e-aaa4-0f81aadea403",
   "metadata": {},
   "outputs": [],
   "source": [
    "df.count(),len(df.columns)"
   ]
  },
  {
   "cell_type": "code",
   "execution_count": null,
   "id": "4f58c976-850c-46ac-97f7-e7ef5af0f344",
   "metadata": {},
   "outputs": [],
   "source": [
    "# print dataframe schema\n",
    "df.printSchema()"
   ]
  },
  {
   "cell_type": "code",
   "execution_count": null,
   "id": "e6814580-73cd-439e-9f10-85d45f330b2c",
   "metadata": {},
   "outputs": [],
   "source": [
    "df.describe().show()"
   ]
  },
  {
   "cell_type": "code",
   "execution_count": null,
   "id": "f0422411-7ca9-4bbb-82e5-45bb596d90d5",
   "metadata": {},
   "outputs": [],
   "source": [
    "# info about dataframe\n",
    "df.summary().show()"
   ]
  },
  {
   "cell_type": "markdown",
   "id": "541ec19c-c232-4c0c-b877-986cd594a312",
   "metadata": {},
   "source": [
    "### Select features"
   ]
  },
  {
   "cell_type": "code",
   "execution_count": 25,
   "id": "28799de9-d479-4aca-969e-a31a5ef21e8e",
   "metadata": {},
   "outputs": [
    {
     "name": "stderr",
     "output_type": "stream",
     "text": [
      "                                                                                \r"
     ]
    },
    {
     "data": {
      "text/plain": [
       "(3678001, 8)"
      ]
     },
     "execution_count": 25,
     "metadata": {},
     "output_type": "execute_result"
    }
   ],
   "source": [
    "# select columns\n",
    "# df = df.filter(coalesce('鄉鎮市區', '交易標的', '建物移轉總面積平方公尺','主建物面積', '建物現況格局-房', '車位總價元', '主要建材', '總價元').isNotNull())\n",
    "features_df = df.select('城市代碼', '鄉鎮市區', '交易標的', '建物移轉總面積平方公尺', '主建物面積', '建物現況格局-房', '車位總價元', '總價元') # without '主要建材'\n",
    "features_df.count(), len(features_df.columns)"
   ]
  },
  {
   "cell_type": "code",
   "execution_count": null,
   "id": "6d25367f-802d-4f67-9c09-0b7450e7e712",
   "metadata": {},
   "outputs": [],
   "source": [
    "# print dataframe schema\n",
    "features_df.printSchema()"
   ]
  },
  {
   "cell_type": "code",
   "execution_count": 26,
   "id": "4b5efcd4-86d7-4bbb-b297-630623f3ea46",
   "metadata": {},
   "outputs": [
    {
     "name": "stderr",
     "output_type": "stream",
     "text": [
      "                                                                                \r"
     ]
    },
    {
     "data": {
      "text/plain": [
       "(2398819, 8)"
      ]
     },
     "execution_count": 26,
     "metadata": {},
     "output_type": "execute_result"
    }
   ],
   "source": [
    "# select target without garage & land\n",
    "features_df = features_df.filter(~col('交易標的').isin(['車位', '土地']))\n",
    "features_df = features_df.filter(~(col('主建物面積') == 0))\n",
    "features_df.count(), len(features_df.columns)"
   ]
  },
  {
   "cell_type": "code",
   "execution_count": 27,
   "id": "93347b18-4539-4ee0-a80e-7a3ba61a7019",
   "metadata": {},
   "outputs": [],
   "source": [
    "features_df = features_df.withColumn(\"總價元\", df.總價元/10000)\n",
    "features_df = features_df.withColumn(\"車位總價元\", df.車位總價元/10000)"
   ]
  },
  {
   "cell_type": "code",
   "execution_count": 28,
   "id": "8eb92dfd-bb0a-49c3-a983-6537022f52dc",
   "metadata": {},
   "outputs": [],
   "source": [
    "features_df = features_df.withColumn(\"建物移轉總面積平方公尺\", features_df[\"建物移轉總面積平方公尺\"].cast(DoubleType()))\n",
    "features_df = features_df.withColumn(\"主建物面積\", features_df[\"主建物面積\"].cast(DoubleType()))\n",
    "features_df = features_df.withColumn(\"建物現況格局-房\", features_df[\"建物現況格局-房\"].cast(IntegerType()))\n",
    "features_df = features_df.withColumn(\"車位總價元\", features_df[\"車位總價元\"].cast(IntegerType()))\n",
    "features_df = features_df.withColumn(\"總價元\", features_df[\"總價元\"].cast(IntegerType()))"
   ]
  },
  {
   "cell_type": "code",
   "execution_count": null,
   "id": "5b1b51bd-4cfe-4c79-a073-b0ae3f430d31",
   "metadata": {},
   "outputs": [],
   "source": [
    "# print dataframe schema\n",
    "features_df.printSchema()"
   ]
  },
  {
   "cell_type": "code",
   "execution_count": null,
   "id": "4b876bf4-333d-4e6f-8ade-8c35f2d73e1d",
   "metadata": {},
   "outputs": [],
   "source": [
    "features_df.show(10)"
   ]
  },
  {
   "cell_type": "code",
   "execution_count": 29,
   "id": "b47494ad-bce7-49d1-8cf2-ade9db9ce24e",
   "metadata": {},
   "outputs": [
    {
     "name": "stderr",
     "output_type": "stream",
     "text": [
      "                                                                                \r"
     ]
    },
    {
     "data": {
      "text/plain": [
       "2398819"
      ]
     },
     "execution_count": 29,
     "metadata": {},
     "output_type": "execute_result"
    }
   ],
   "source": [
    "# drop columns\n",
    "features_df = features_df.dropna()\n",
    "features_df.count()"
   ]
  },
  {
   "cell_type": "code",
   "execution_count": null,
   "id": "fe4daa59-e9c5-4872-8c35-80d3611bad69",
   "metadata": {},
   "outputs": [],
   "source": [
    "# check nan values\n",
    "features_df.select(\n",
    "    [count(when(isnan(c) | col(c).isNull(), c)).alias(c) for c in features_df.columns]\n",
    "   ).show()"
   ]
  },
  {
   "cell_type": "code",
   "execution_count": null,
   "id": "78fe75b6-9b1a-4734-b74e-2568fc5a45c6",
   "metadata": {},
   "outputs": [],
   "source": [
    "features_df.describe().show()"
   ]
  },
  {
   "cell_type": "code",
   "execution_count": null,
   "id": "6ccf31a9-e1cc-44a0-afad-f0890779ebf5",
   "metadata": {},
   "outputs": [],
   "source": [
    "# info about dataframe\n",
    "features_df.summary().show()"
   ]
  },
  {
   "cell_type": "markdown",
   "id": "4f4eaa90-ce28-4cb5-a985-80493bdb82bd",
   "metadata": {},
   "source": [
    "### Select City to build model"
   ]
  },
  {
   "cell_type": "code",
   "execution_count": 30,
   "id": "bb26a6b5-03c6-46f8-b352-52c9e3b1876a",
   "metadata": {},
   "outputs": [],
   "source": [
    "# ABDEFH\n",
    "\n",
    "def split_city(df, city_code):\n",
    "    df = df.filter(col('城市代碼') == city_code)\n",
    "    return df"
   ]
  },
  {
   "cell_type": "code",
   "execution_count": 37,
   "id": "132cfbb7-44ab-404a-98f9-7ac6adee4544",
   "metadata": {},
   "outputs": [
    {
     "name": "stderr",
     "output_type": "stream",
     "text": [
      "                                                                                \r"
     ]
    },
    {
     "data": {
      "text/plain": [
       "327369"
      ]
     },
     "execution_count": 37,
     "metadata": {},
     "output_type": "execute_result"
    }
   ],
   "source": [
    "city_df = split_city(features_df, \"H\")\n",
    "city_df.count()"
   ]
  },
  {
   "cell_type": "markdown",
   "id": "6871e3d8-1bbf-421c-adfe-a706ac7e47f7",
   "metadata": {},
   "source": [
    "### Feature engineering"
   ]
  },
  {
   "cell_type": "code",
   "execution_count": 38,
   "id": "d79a14bb-cc1f-49c8-952f-689005ded789",
   "metadata": {},
   "outputs": [],
   "source": [
    "def dummies_encoding(df, cols_list):\n",
    "    for i in cols_list:\n",
    "        categ = df.select(i).distinct().rdd.flatMap(lambda x:x).collect()\n",
    "        exprs = [fn.when(fn.col(i) == cat,1).otherwise(0)\\\n",
    "                .alias(str(cat)) for cat in categ]\n",
    "        df = df.select(exprs + df.columns)\n",
    "    return df    "
   ]
  },
  {
   "cell_type": "code",
   "execution_count": 39,
   "id": "24bdaea2-85dc-422c-bed7-f719d9960d9e",
   "metadata": {},
   "outputs": [
    {
     "name": "stderr",
     "output_type": "stream",
     "text": [
      "                                                                                \r"
     ]
    }
   ],
   "source": [
    "cols_list = ['鄉鎮市區', '交易標的'] # without '主要建材'\n",
    "city_df = dummies_encoding(city_df, cols_list)"
   ]
  },
  {
   "cell_type": "code",
   "execution_count": 40,
   "id": "fc42ed26-22f6-418f-a60e-ccd67a081364",
   "metadata": {},
   "outputs": [],
   "source": [
    "# delete a column\n",
    "new_df = city_df.drop('鄉鎮市區', '交易標的', '城市代碼')"
   ]
  },
  {
   "cell_type": "code",
   "execution_count": null,
   "id": "c4e5b348-dccf-4fe3-865d-a16bbeabaadb",
   "metadata": {},
   "outputs": [],
   "source": [
    "new_df.show(5)"
   ]
  },
  {
   "cell_type": "code",
   "execution_count": 41,
   "id": "81e67640-435f-43aa-a809-bc310cfedceb",
   "metadata": {},
   "outputs": [],
   "source": [
    "feature_cols = new_df.columns[:-1]\n",
    "assembler = VectorAssembler(inputCols = feature_cols, outputCol = 'features')\n",
    "new_df = assembler.transform(new_df)"
   ]
  },
  {
   "cell_type": "code",
   "execution_count": null,
   "id": "9bf0b22a-e931-4feb-aaec-f54beb42b4bd",
   "metadata": {},
   "outputs": [],
   "source": [
    "# validate the presence of dense vectors \n",
    "new_df.printSchema()"
   ]
  },
  {
   "cell_type": "code",
   "execution_count": null,
   "id": "cfc07008-ac2a-450b-b180-5164215bc516",
   "metadata": {},
   "outputs": [],
   "source": [
    "# view the details of dense vector\n",
    "new_df.select('features').show(5,False)"
   ]
  },
  {
   "cell_type": "code",
   "execution_count": 42,
   "id": "69e4e379-a60a-4b9b-a63e-26c35beb68c5",
   "metadata": {},
   "outputs": [],
   "source": [
    "# only select the features and label column\n",
    "model_df = new_df.select(['features', '總價元'])"
   ]
  },
  {
   "cell_type": "code",
   "execution_count": 43,
   "id": "86218cf5-16ef-4feb-aecc-1f5be2c5f434",
   "metadata": {},
   "outputs": [],
   "source": [
    "model_df = model_df.withColumnRenamed('總價元', 'price')"
   ]
  },
  {
   "cell_type": "code",
   "execution_count": null,
   "id": "3c6deb8b-4bbd-46a8-a00e-b08a4e519157",
   "metadata": {},
   "outputs": [],
   "source": [
    "# Reading for machine learning\n",
    "model_df.show(10,False)"
   ]
  },
  {
   "cell_type": "code",
   "execution_count": null,
   "id": "1f130483-1475-4cd4-ab42-d1c73a84fea9",
   "metadata": {},
   "outputs": [],
   "source": [
    "# size of model df\n",
    "model_df.count(), len(model_df.columns)"
   ]
  },
  {
   "cell_type": "markdown",
   "id": "202fed98-29db-4358-9394-9d37fbbd007d",
   "metadata": {},
   "source": [
    "### Split Data - Train & Test sets"
   ]
  },
  {
   "cell_type": "code",
   "execution_count": 48,
   "id": "cb89cc22-f77a-4b69-906c-e453b81824c7",
   "metadata": {},
   "outputs": [],
   "source": [
    "# use Logistic Regression to train on the training set\n",
    "train_df, test_df = model_df.randomSplit([0.70, 0.30])"
   ]
  },
  {
   "cell_type": "markdown",
   "id": "f1feaf9c-3f95-4c53-945b-bd542b6850cd",
   "metadata": {
    "tags": []
   },
   "source": [
    "### Build Linear Regression with lasso"
   ]
  },
  {
   "cell_type": "code",
   "execution_count": null,
   "id": "3bef83d2-97c2-4ed3-9dfa-ebb3bcdebd60",
   "metadata": {},
   "outputs": [],
   "source": [
    "import sys\n",
    "\n",
    "from pyspark.mllib.linalg import Vectors\n",
    "from pyspark.mllib.regression import LabeledPoint\n",
    "from pyspark.mllib.regression import StreamingLinearRegressionWithSGD\n",
    "\n",
    "def parse(lp):\n",
    "    label = float(lp[lp.find('(') + 1: lp.find(',')])\n",
    "    vec = Vectors.dense(lp[lp.find('[') + 1: lp.find(']')].split(','))\n",
    "    return LabeledPoint(label, vec)\n",
    "\n",
    "trainingData = model_df.textFileStream(sys.argv[1]).map(parse).cache()\n",
    "testData = model_df.textFileStream(sys.argv[2]).map(parse)"
   ]
  },
  {
   "cell_type": "markdown",
   "id": "ac5f1fa1-5041-435e-ac47-97d6e04b1b89",
   "metadata": {
    "tags": []
   },
   "source": [
    "### Build SMVModel "
   ]
  },
  {
   "cell_type": "code",
   "execution_count": null,
   "id": "1d35192f-08fb-4b98-b127-00ef60f3240f",
   "metadata": {},
   "outputs": [],
   "source": []
  },
  {
   "cell_type": "code",
   "execution_count": null,
   "id": "bcc2adc2-4ff4-45d2-ae86-68ad0c66b99c",
   "metadata": {},
   "outputs": [],
   "source": [
    "from pyspark.mllib.classification import SVMWithSGD, SVMModel\n",
    "from pyspark.mllib.regression import LabeledPoint\n",
    "\n",
    "# Load and parse the data\n",
    "def parsePoint(line):\n",
    "    values = [float(x) for x in line.split(' ')]\n",
    "    return LabeledPoint(values[0], values[1:])\n",
    "\n",
    "data = sc.textFile(\"data/mllib/sample_svm_data.txt\")\n",
    "parsedData = data.map(parsePoint)\n",
    "\n",
    "# Build the model\n",
    "model = SVMWithSGD.train(parsedData, iterations=100)\n",
    "\n",
    "# Evaluating the model on training data\n",
    "labelsAndPreds = parsedData.map(lambda p: (p.label, model.predict(p.features)))\n",
    "trainErr = labelsAndPreds.filter(lambda lp: lp[0] != lp[1]).count() / float(parsedData.count())\n",
    "print(\"Training Error = \" + str(trainErr))\n",
    "\n",
    "# Save and load model\n",
    "model.save(sc, \"target/tmp/pythonSVMWithSGDModel\")\n",
    "sameModel = SVMModel.load(sc, \"target/tmp/pythonSVMWithSGDModel\")"
   ]
  },
  {
   "cell_type": "markdown",
   "id": "174d647f-5d87-4471-80dd-6d433ef064c5",
   "metadata": {},
   "source": [
    "### Build Linear Regression Model "
   ]
  },
  {
   "cell_type": "code",
   "execution_count": 49,
   "id": "cd532fae-f97d-46c5-a10b-214c8866258a",
   "metadata": {},
   "outputs": [
    {
     "name": "stderr",
     "output_type": "stream",
     "text": [
      "[Stage 67:=========================>                                (4 + 4) / 9]\r"
     ]
    },
    {
     "name": "stdout",
     "output_type": "stream",
     "text": [
      "2937361.8000198975\n",
      "1713.8733325482071\n",
      "0.7734641744594577\n"
     ]
    },
    {
     "name": "stderr",
     "output_type": "stream",
     "text": [
      "                                                                                \r"
     ]
    }
   ],
   "source": [
    "reg = 0.05\n",
    "# Build Linear Regression model \n",
    "lin_Reg=LinearRegression(labelCol='price', regParam=reg)\n",
    "\n",
    "# fit the linear regression model on training data set \n",
    "lr_model=lin_Reg.fit(train_df)\n",
    "\n",
    "training_predictions=lr_model.evaluate(train_df)\n",
    "\n",
    "print(training_predictions.meanSquaredError)\n",
    "print(training_predictions.rootMeanSquaredError)\n",
    "print(training_predictions.r2)"
   ]
  },
  {
   "cell_type": "code",
   "execution_count": null,
   "id": "213cadb9-6e04-419e-ae8d-5e2d0268937b",
   "metadata": {},
   "outputs": [],
   "source": [
    "reg = 0.05"
   ]
  },
  {
   "cell_type": "code",
   "execution_count": null,
   "id": "1da38389-9c0b-4487-ba93-9ba612610795",
   "metadata": {},
   "outputs": [],
   "source": [
    "# Build Linear Regression model \n",
    "lin_Reg=LinearRegression(labelCol='price', regParam=reg)"
   ]
  },
  {
   "cell_type": "code",
   "execution_count": null,
   "id": "b0504175-56ad-4903-873f-f3f3eac85d4f",
   "metadata": {},
   "outputs": [],
   "source": [
    "# fit the linear regression model on training data set \n",
    "lr_model=lin_Reg.fit(train_df)"
   ]
  },
  {
   "cell_type": "code",
   "execution_count": null,
   "id": "d5835bb8-60cf-4bf3-9b2d-30dd2ac8e052",
   "metadata": {},
   "outputs": [],
   "source": [
    "lr_model.intercept"
   ]
  },
  {
   "cell_type": "code",
   "execution_count": null,
   "id": "fdda7cf0-f0b8-46c0-8981-a98f548ef179",
   "metadata": {},
   "outputs": [],
   "source": [
    "lr_model.coefficients"
   ]
  },
  {
   "cell_type": "code",
   "execution_count": null,
   "id": "e8a18ebc-869c-495d-a1f7-359baac6ef6d",
   "metadata": {},
   "outputs": [],
   "source": [
    "training_predictions=lr_model.evaluate(train_df)"
   ]
  },
  {
   "cell_type": "code",
   "execution_count": null,
   "id": "ded0ed7a-6045-4d4f-96cb-a4829287ac71",
   "metadata": {},
   "outputs": [],
   "source": [
    "training_predictions.meanSquaredError"
   ]
  },
  {
   "cell_type": "code",
   "execution_count": null,
   "id": "f8b87221-8d61-4939-8dfd-ac37b1084a25",
   "metadata": {},
   "outputs": [],
   "source": [
    "training_predictions.rootMeanSquaredError"
   ]
  },
  {
   "cell_type": "code",
   "execution_count": null,
   "id": "754eaa0b-2989-455e-aedc-4f5a097dcf50",
   "metadata": {},
   "outputs": [],
   "source": [
    "training_predictions.r2"
   ]
  },
  {
   "cell_type": "markdown",
   "id": "9ea4501a-6d4a-4ec4-8fb7-549274f8aa57",
   "metadata": {},
   "source": [
    "### Evaluate Model"
   ]
  },
  {
   "cell_type": "code",
   "execution_count": null,
   "id": "de1b0dd4-4fc3-40dc-98e7-2ddf4b0f7eed",
   "metadata": {},
   "outputs": [],
   "source": [
    "# make predictions on test data \n",
    "test_results = lr_model.evaluate(test_df)"
   ]
  },
  {
   "cell_type": "code",
   "execution_count": null,
   "id": "765a6bc6-2c05-41d0-9e57-ab01c7ca91ee",
   "metadata": {},
   "outputs": [],
   "source": [
    "# view the residual errors based on predictions \n",
    "test_results.residuals.show(10,False)"
   ]
  },
  {
   "cell_type": "code",
   "execution_count": null,
   "id": "9dc5f4a2-050d-4e49-8cb8-6777783b2589",
   "metadata": {},
   "outputs": [],
   "source": [
    "# coefficient of determination value for model\n",
    "test_results.r2"
   ]
  },
  {
   "cell_type": "code",
   "execution_count": null,
   "id": "e16dcd33-4234-43f7-b73a-bd0cbff78779",
   "metadata": {},
   "outputs": [],
   "source": [
    "# RMSE\n",
    "test_results.rootMeanSquaredError"
   ]
  },
  {
   "cell_type": "code",
   "execution_count": null,
   "id": "ab8e2266-254a-4203-ac3b-f5273c92f14f",
   "metadata": {},
   "outputs": [],
   "source": [
    "# MSE\n",
    "test_results.meanSquaredError"
   ]
  }
 ],
 "metadata": {
  "kernelspec": {
   "display_name": "Python 3 (ipykernel)",
   "language": "python",
   "name": "python3"
  },
  "language_info": {
   "codemirror_mode": {
    "name": "ipython",
    "version": 3
   },
   "file_extension": ".py",
   "mimetype": "text/x-python",
   "name": "python",
   "nbconvert_exporter": "python",
   "pygments_lexer": "ipython3",
   "version": "3.8.10"
  }
 },
 "nbformat": 4,
 "nbformat_minor": 5
}
